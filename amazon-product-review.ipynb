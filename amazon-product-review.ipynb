{
 "cells": [
  {
   "cell_type": "code",
   "execution_count": 1,
   "metadata": {
    "execution": {
     "iopub.execute_input": "2025-01-17T03:41:48.241111Z",
     "iopub.status.busy": "2025-01-17T03:41:48.240775Z",
     "iopub.status.idle": "2025-01-17T03:41:51.045027Z",
     "shell.execute_reply": "2025-01-17T03:41:51.043814Z",
     "shell.execute_reply.started": "2025-01-17T03:41:48.241073Z"
    },
    "trusted": true
   },
   "outputs": [],
   "source": [
    "import pandas as pd\n",
    "import numpy as np\n",
    "import seaborn as sns\n",
    "import matplotlib.pyplot as plt"
   ]
  },
  {
   "cell_type": "code",
   "execution_count": 2,
   "metadata": {},
   "outputs": [],
   "source": [
    "# pip install seaborn"
   ]
  },
  {
   "cell_type": "code",
   "execution_count": 3,
   "metadata": {
    "execution": {
     "iopub.execute_input": "2025-01-17T03:41:51.046752Z",
     "iopub.status.busy": "2025-01-17T03:41:51.046131Z",
     "iopub.status.idle": "2025-01-17T03:41:51.071523Z",
     "shell.execute_reply": "2025-01-17T03:41:51.070237Z",
     "shell.execute_reply.started": "2025-01-17T03:41:51.046721Z"
    },
    "trusted": true
   },
   "outputs": [],
   "source": [
    "data=pd.read_csv('amazon_com-product_reviews.csv')"
   ]
  },
  {
   "cell_type": "code",
   "execution_count": 4,
   "metadata": {
    "execution": {
     "iopub.execute_input": "2025-01-17T03:41:51.072929Z",
     "iopub.status.busy": "2025-01-17T03:41:51.072568Z",
     "iopub.status.idle": "2025-01-17T03:41:51.110158Z",
     "shell.execute_reply": "2025-01-17T03:41:51.108985Z",
     "shell.execute_reply.started": "2025-01-17T03:41:51.072901Z"
    },
    "trusted": true
   },
   "outputs": [
    {
     "data": {
      "text/html": [
       "<div>\n",
       "<style scoped>\n",
       "    .dataframe tbody tr th:only-of-type {\n",
       "        vertical-align: middle;\n",
       "    }\n",
       "\n",
       "    .dataframe tbody tr th {\n",
       "        vertical-align: top;\n",
       "    }\n",
       "\n",
       "    .dataframe thead th {\n",
       "        text-align: right;\n",
       "    }\n",
       "</style>\n",
       "<table border=\"1\" class=\"dataframe\">\n",
       "  <thead>\n",
       "    <tr style=\"text-align: right;\">\n",
       "      <th></th>\n",
       "      <th>Uniq Id</th>\n",
       "      <th>Crawl Timestamp</th>\n",
       "      <th>Billing Uniq Id</th>\n",
       "      <th>Rating</th>\n",
       "      <th>Review Title</th>\n",
       "      <th>Review Rating</th>\n",
       "      <th>Review Date</th>\n",
       "      <th>User Id</th>\n",
       "      <th>Brand</th>\n",
       "      <th>Category</th>\n",
       "      <th>Sub Category</th>\n",
       "      <th>Product Description</th>\n",
       "      <th>Asin</th>\n",
       "      <th>Url</th>\n",
       "      <th>Review Content</th>\n",
       "      <th>Verified Purchase</th>\n",
       "      <th>Helpful Review Count</th>\n",
       "      <th>Manufacturer Response</th>\n",
       "    </tr>\n",
       "  </thead>\n",
       "  <tbody>\n",
       "    <tr>\n",
       "      <th>0</th>\n",
       "      <td>10d8b81dc693db8a3f92e19254525d53</td>\n",
       "      <td>2020-03-17 02:32:10 +0000</td>\n",
       "      <td>c697dc43961526785292107b91a639e1</td>\n",
       "      <td>NaN</td>\n",
       "      <td>Best Natural Deodorant!!</td>\n",
       "      <td>5.0</td>\n",
       "      <td>March 6, 2020</td>\n",
       "      <td>AGIZFDSHLSBZ7KHQ4FV65W7B3HMQ</td>\n",
       "      <td>Schmidt's Deodorant</td>\n",
       "      <td>Beauty &amp; Personal Care</td>\n",
       "      <td>Personal Care</td>\n",
       "      <td>Schmidt’s natural deodorant formulas use innov...</td>\n",
       "      <td>B071YYMZ19</td>\n",
       "      <td>https://www.amazon.com/gp/customer-reviews/R2Q...</td>\n",
       "      <td>This is the one natural deodorant that works f...</td>\n",
       "      <td>Verified Purchase</td>\n",
       "      <td>0</td>\n",
       "      <td>NaN</td>\n",
       "    </tr>\n",
       "    <tr>\n",
       "      <th>1</th>\n",
       "      <td>31ef1ee4961d3fcff33e363edd7677eb</td>\n",
       "      <td>2020-03-17 02:32:10 +0000</td>\n",
       "      <td>c697dc43961526785292107b91a639e1</td>\n",
       "      <td>NaN</td>\n",
       "      <td>Schmidt's Charcoal Deodorant is the best!</td>\n",
       "      <td>5.0</td>\n",
       "      <td>March 6, 2020</td>\n",
       "      <td>AHOZPYWO6WE5MLAZZPDUAWNKKNRQ</td>\n",
       "      <td>Schmidt's Deodorant</td>\n",
       "      <td>Beauty &amp; Personal Care</td>\n",
       "      <td>Personal Care</td>\n",
       "      <td>Schmidt’s natural deodorant formulas use innov...</td>\n",
       "      <td>B071YYMZ19</td>\n",
       "      <td>https://www.amazon.com/gp/customer-reviews/R14...</td>\n",
       "      <td>I am staying away from the conventional deodor...</td>\n",
       "      <td>Verified Purchase</td>\n",
       "      <td>0</td>\n",
       "      <td>NaN</td>\n",
       "    </tr>\n",
       "    <tr>\n",
       "      <th>2</th>\n",
       "      <td>6943e517922b051cbec496be32fbb57f</td>\n",
       "      <td>2020-03-17 02:32:10 +0000</td>\n",
       "      <td>c697dc43961526785292107b91a639e1</td>\n",
       "      <td>NaN</td>\n",
       "      <td>Beware. Defective or counterfeit.</td>\n",
       "      <td>1.0</td>\n",
       "      <td>March 6, 2020</td>\n",
       "      <td>AECC6GYWWLNCKSBG3DZDGFSYDOTA</td>\n",
       "      <td>Schmidt's Deodorant</td>\n",
       "      <td>Beauty &amp; Personal Care</td>\n",
       "      <td>Personal Care</td>\n",
       "      <td>Schmidt’s natural deodorant formulas use innov...</td>\n",
       "      <td>B071YYMZ19</td>\n",
       "      <td>https://www.amazon.com/gp/customer-reviews/R2R...</td>\n",
       "      <td>Do not buy this from Amazon it's either defect...</td>\n",
       "      <td>Verified Purchase</td>\n",
       "      <td>One person found this helpful Helpful</td>\n",
       "      <td>NaN</td>\n",
       "    </tr>\n",
       "    <tr>\n",
       "      <th>3</th>\n",
       "      <td>6778c794e6ac7112981d4ebb239d6826</td>\n",
       "      <td>2020-03-17 02:32:10 +0000</td>\n",
       "      <td>c697dc43961526785292107b91a639e1</td>\n",
       "      <td>NaN</td>\n",
       "      <td>Good for infrequent shavers in cooler months i...</td>\n",
       "      <td>3.0</td>\n",
       "      <td>March 5, 2020</td>\n",
       "      <td>AEOO6OOEO4QD7Z4F6C2FMZUCW7PA</td>\n",
       "      <td>Schmidt's Deodorant</td>\n",
       "      <td>Beauty &amp; Personal Care</td>\n",
       "      <td>Personal Care</td>\n",
       "      <td>Schmidt’s natural deodorant formulas use innov...</td>\n",
       "      <td>B071YYMZ19</td>\n",
       "      <td>https://www.amazon.com/gp/customer-reviews/RMI...</td>\n",
       "      <td>I started using this because I was getting cys...</td>\n",
       "      <td>NO</td>\n",
       "      <td>0</td>\n",
       "      <td>NaN</td>\n",
       "    </tr>\n",
       "    <tr>\n",
       "      <th>4</th>\n",
       "      <td>2335a28ae24db3b2191080bfd98a86e0</td>\n",
       "      <td>2020-03-17 02:32:10 +0000</td>\n",
       "      <td>c697dc43961526785292107b91a639e1</td>\n",
       "      <td>NaN</td>\n",
       "      <td>This isn’t the true product and will hurt your...</td>\n",
       "      <td>1.0</td>\n",
       "      <td>March 2, 2020</td>\n",
       "      <td>AEHSDCGRIMVOUG6ST35FJ4FMMW5Q</td>\n",
       "      <td>Schmidt's Deodorant</td>\n",
       "      <td>Beauty &amp; Personal Care</td>\n",
       "      <td>Personal Care</td>\n",
       "      <td>Schmidt’s natural deodorant formulas use innov...</td>\n",
       "      <td>B071YYMZ19</td>\n",
       "      <td>https://www.amazon.com/gp/customer-reviews/R1R...</td>\n",
       "      <td>Dont buy this from amazon!!!! I never write re...</td>\n",
       "      <td>Verified Purchase</td>\n",
       "      <td>One person found this helpful Helpful</td>\n",
       "      <td>NaN</td>\n",
       "    </tr>\n",
       "  </tbody>\n",
       "</table>\n",
       "</div>"
      ],
      "text/plain": [
       "                            Uniq Id            Crawl Timestamp  \\\n",
       "0  10d8b81dc693db8a3f92e19254525d53  2020-03-17 02:32:10 +0000   \n",
       "1  31ef1ee4961d3fcff33e363edd7677eb  2020-03-17 02:32:10 +0000   \n",
       "2  6943e517922b051cbec496be32fbb57f  2020-03-17 02:32:10 +0000   \n",
       "3  6778c794e6ac7112981d4ebb239d6826  2020-03-17 02:32:10 +0000   \n",
       "4  2335a28ae24db3b2191080bfd98a86e0  2020-03-17 02:32:10 +0000   \n",
       "\n",
       "                    Billing Uniq Id  Rating  \\\n",
       "0  c697dc43961526785292107b91a639e1     NaN   \n",
       "1  c697dc43961526785292107b91a639e1     NaN   \n",
       "2  c697dc43961526785292107b91a639e1     NaN   \n",
       "3  c697dc43961526785292107b91a639e1     NaN   \n",
       "4  c697dc43961526785292107b91a639e1     NaN   \n",
       "\n",
       "                                        Review Title  Review Rating  \\\n",
       "0                           Best Natural Deodorant!!            5.0   \n",
       "1          Schmidt's Charcoal Deodorant is the best!            5.0   \n",
       "2                  Beware. Defective or counterfeit.            1.0   \n",
       "3  Good for infrequent shavers in cooler months i...            3.0   \n",
       "4  This isn’t the true product and will hurt your...            1.0   \n",
       "\n",
       "     Review Date                       User Id                Brand  \\\n",
       "0  March 6, 2020  AGIZFDSHLSBZ7KHQ4FV65W7B3HMQ  Schmidt's Deodorant   \n",
       "1  March 6, 2020  AHOZPYWO6WE5MLAZZPDUAWNKKNRQ  Schmidt's Deodorant   \n",
       "2  March 6, 2020  AECC6GYWWLNCKSBG3DZDGFSYDOTA  Schmidt's Deodorant   \n",
       "3  March 5, 2020  AEOO6OOEO4QD7Z4F6C2FMZUCW7PA  Schmidt's Deodorant   \n",
       "4  March 2, 2020  AEHSDCGRIMVOUG6ST35FJ4FMMW5Q  Schmidt's Deodorant   \n",
       "\n",
       "                 Category   Sub Category  \\\n",
       "0  Beauty & Personal Care  Personal Care   \n",
       "1  Beauty & Personal Care  Personal Care   \n",
       "2  Beauty & Personal Care  Personal Care   \n",
       "3  Beauty & Personal Care  Personal Care   \n",
       "4  Beauty & Personal Care  Personal Care   \n",
       "\n",
       "                                 Product Description        Asin  \\\n",
       "0  Schmidt’s natural deodorant formulas use innov...  B071YYMZ19   \n",
       "1  Schmidt’s natural deodorant formulas use innov...  B071YYMZ19   \n",
       "2  Schmidt’s natural deodorant formulas use innov...  B071YYMZ19   \n",
       "3  Schmidt’s natural deodorant formulas use innov...  B071YYMZ19   \n",
       "4  Schmidt’s natural deodorant formulas use innov...  B071YYMZ19   \n",
       "\n",
       "                                                 Url  \\\n",
       "0  https://www.amazon.com/gp/customer-reviews/R2Q...   \n",
       "1  https://www.amazon.com/gp/customer-reviews/R14...   \n",
       "2  https://www.amazon.com/gp/customer-reviews/R2R...   \n",
       "3  https://www.amazon.com/gp/customer-reviews/RMI...   \n",
       "4  https://www.amazon.com/gp/customer-reviews/R1R...   \n",
       "\n",
       "                                      Review Content  Verified Purchase  \\\n",
       "0  This is the one natural deodorant that works f...  Verified Purchase   \n",
       "1  I am staying away from the conventional deodor...  Verified Purchase   \n",
       "2  Do not buy this from Amazon it's either defect...  Verified Purchase   \n",
       "3  I started using this because I was getting cys...                 NO   \n",
       "4  Dont buy this from amazon!!!! I never write re...  Verified Purchase   \n",
       "\n",
       "                    Helpful Review Count  Manufacturer Response  \n",
       "0                                      0                    NaN  \n",
       "1                                      0                    NaN  \n",
       "2  One person found this helpful Helpful                    NaN  \n",
       "3                                      0                    NaN  \n",
       "4  One person found this helpful Helpful                    NaN  "
      ]
     },
     "execution_count": 4,
     "metadata": {},
     "output_type": "execute_result"
    }
   ],
   "source": [
    "data.head()"
   ]
  },
  {
   "cell_type": "code",
   "execution_count": 5,
   "metadata": {
    "execution": {
     "iopub.execute_input": "2025-01-17T03:41:51.112489Z",
     "iopub.status.busy": "2025-01-17T03:41:51.112174Z",
     "iopub.status.idle": "2025-01-17T03:41:51.138377Z",
     "shell.execute_reply": "2025-01-17T03:41:51.137337Z",
     "shell.execute_reply.started": "2025-01-17T03:41:51.112463Z"
    },
    "trusted": true
   },
   "outputs": [
    {
     "name": "stdout",
     "output_type": "stream",
     "text": [
      "<class 'pandas.core.frame.DataFrame'>\n",
      "RangeIndex: 50 entries, 0 to 49\n",
      "Data columns (total 18 columns):\n",
      " #   Column                 Non-Null Count  Dtype  \n",
      "---  ------                 --------------  -----  \n",
      " 0   Uniq Id                50 non-null     object \n",
      " 1   Crawl Timestamp        50 non-null     object \n",
      " 2   Billing Uniq Id        50 non-null     object \n",
      " 3   Rating                 0 non-null      float64\n",
      " 4   Review Title           50 non-null     object \n",
      " 5   Review Rating          50 non-null     float64\n",
      " 6   Review Date            50 non-null     object \n",
      " 7   User Id                50 non-null     object \n",
      " 8   Brand                  50 non-null     object \n",
      " 9   Category               49 non-null     object \n",
      " 10  Sub Category           49 non-null     object \n",
      " 11  Product Description    49 non-null     object \n",
      " 12  Asin                   50 non-null     object \n",
      " 13  Url                    50 non-null     object \n",
      " 14  Review Content         50 non-null     object \n",
      " 15  Verified Purchase      50 non-null     object \n",
      " 16  Helpful Review Count   50 non-null     object \n",
      " 17  Manufacturer Response  0 non-null      float64\n",
      "dtypes: float64(3), object(15)\n",
      "memory usage: 7.2+ KB\n"
     ]
    }
   ],
   "source": [
    "data.info()"
   ]
  },
  {
   "cell_type": "code",
   "execution_count": 6,
   "metadata": {
    "execution": {
     "iopub.execute_input": "2025-01-17T03:41:51.140911Z",
     "iopub.status.busy": "2025-01-17T03:41:51.140555Z",
     "iopub.status.idle": "2025-01-17T03:41:51.157762Z",
     "shell.execute_reply": "2025-01-17T03:41:51.156544Z",
     "shell.execute_reply.started": "2025-01-17T03:41:51.140878Z"
    },
    "trusted": true
   },
   "outputs": [],
   "source": [
    "# data['Rating']"
   ]
  },
  {
   "cell_type": "code",
   "execution_count": 7,
   "metadata": {
    "execution": {
     "iopub.execute_input": "2025-01-17T03:41:51.159301Z",
     "iopub.status.busy": "2025-01-17T03:41:51.158940Z",
     "iopub.status.idle": "2025-01-17T03:41:51.181205Z",
     "shell.execute_reply": "2025-01-17T03:41:51.180231Z",
     "shell.execute_reply.started": "2025-01-17T03:41:51.159244Z"
    },
    "trusted": true
   },
   "outputs": [
    {
     "data": {
      "text/plain": [
       "Index(['Uniq Id', 'Crawl Timestamp', 'Billing Uniq Id', 'Rating',\n",
       "       'Review Title', 'Review Rating', 'Review Date', 'User Id', 'Brand',\n",
       "       'Category', 'Sub Category', 'Product Description', 'Asin', 'Url',\n",
       "       'Review Content', 'Verified Purchase', 'Helpful Review Count',\n",
       "       'Manufacturer Response'],\n",
       "      dtype='object')"
      ]
     },
     "execution_count": 7,
     "metadata": {},
     "output_type": "execute_result"
    }
   ],
   "source": [
    "data.columns"
   ]
  },
  {
   "cell_type": "code",
   "execution_count": 8,
   "metadata": {
    "execution": {
     "iopub.execute_input": "2025-01-17T03:41:51.182766Z",
     "iopub.status.busy": "2025-01-17T03:41:51.182345Z",
     "iopub.status.idle": "2025-01-17T03:41:51.203757Z",
     "shell.execute_reply": "2025-01-17T03:41:51.202547Z",
     "shell.execute_reply.started": "2025-01-17T03:41:51.182737Z"
    },
    "trusted": true
   },
   "outputs": [],
   "source": [
    "data.drop(columns=['Rating', 'Asin', 'Url','Manufacturer Response','Uniq Id', 'Crawl Timestamp', 'Billing Uniq Id','User Id'],inplace=True)"
   ]
  },
  {
   "cell_type": "code",
   "execution_count": 9,
   "metadata": {
    "execution": {
     "iopub.execute_input": "2025-01-17T03:41:51.205101Z",
     "iopub.status.busy": "2025-01-17T03:41:51.204787Z",
     "iopub.status.idle": "2025-01-17T03:41:51.228808Z",
     "shell.execute_reply": "2025-01-17T03:41:51.227748Z",
     "shell.execute_reply.started": "2025-01-17T03:41:51.205075Z"
    },
    "trusted": true
   },
   "outputs": [
    {
     "data": {
      "text/plain": [
       "Review Title            49\n",
       "Review Rating            5\n",
       "Review Date             36\n",
       "Brand                    6\n",
       "Category                 2\n",
       "Sub Category             4\n",
       "Product Description      7\n",
       "Review Content          50\n",
       "Verified Purchase        2\n",
       "Helpful Review Count     4\n",
       "dtype: int64"
      ]
     },
     "execution_count": 9,
     "metadata": {},
     "output_type": "execute_result"
    }
   ],
   "source": [
    "data.nunique()"
   ]
  },
  {
   "cell_type": "code",
   "execution_count": 10,
   "metadata": {
    "execution": {
     "iopub.execute_input": "2025-01-17T03:41:51.230303Z",
     "iopub.status.busy": "2025-01-17T03:41:51.229873Z",
     "iopub.status.idle": "2025-01-17T03:41:51.259777Z",
     "shell.execute_reply": "2025-01-17T03:41:51.258791Z",
     "shell.execute_reply.started": "2025-01-17T03:41:51.230248Z"
    },
    "trusted": true
   },
   "outputs": [
    {
     "data": {
      "text/html": [
       "<div>\n",
       "<style scoped>\n",
       "    .dataframe tbody tr th:only-of-type {\n",
       "        vertical-align: middle;\n",
       "    }\n",
       "\n",
       "    .dataframe tbody tr th {\n",
       "        vertical-align: top;\n",
       "    }\n",
       "\n",
       "    .dataframe thead th {\n",
       "        text-align: right;\n",
       "    }\n",
       "</style>\n",
       "<table border=\"1\" class=\"dataframe\">\n",
       "  <thead>\n",
       "    <tr style=\"text-align: right;\">\n",
       "      <th></th>\n",
       "      <th>Review Rating</th>\n",
       "    </tr>\n",
       "  </thead>\n",
       "  <tbody>\n",
       "    <tr>\n",
       "      <th>count</th>\n",
       "      <td>50.000000</td>\n",
       "    </tr>\n",
       "    <tr>\n",
       "      <th>mean</th>\n",
       "      <td>4.180000</td>\n",
       "    </tr>\n",
       "    <tr>\n",
       "      <th>std</th>\n",
       "      <td>1.409733</td>\n",
       "    </tr>\n",
       "    <tr>\n",
       "      <th>min</th>\n",
       "      <td>1.000000</td>\n",
       "    </tr>\n",
       "    <tr>\n",
       "      <th>25%</th>\n",
       "      <td>4.000000</td>\n",
       "    </tr>\n",
       "    <tr>\n",
       "      <th>50%</th>\n",
       "      <td>5.000000</td>\n",
       "    </tr>\n",
       "    <tr>\n",
       "      <th>75%</th>\n",
       "      <td>5.000000</td>\n",
       "    </tr>\n",
       "    <tr>\n",
       "      <th>max</th>\n",
       "      <td>5.000000</td>\n",
       "    </tr>\n",
       "  </tbody>\n",
       "</table>\n",
       "</div>"
      ],
      "text/plain": [
       "       Review Rating\n",
       "count      50.000000\n",
       "mean        4.180000\n",
       "std         1.409733\n",
       "min         1.000000\n",
       "25%         4.000000\n",
       "50%         5.000000\n",
       "75%         5.000000\n",
       "max         5.000000"
      ]
     },
     "execution_count": 10,
     "metadata": {},
     "output_type": "execute_result"
    }
   ],
   "source": [
    "data.describe()"
   ]
  },
  {
   "cell_type": "code",
   "execution_count": 11,
   "metadata": {
    "execution": {
     "iopub.execute_input": "2025-01-17T03:41:51.261354Z",
     "iopub.status.busy": "2025-01-17T03:41:51.260956Z",
     "iopub.status.idle": "2025-01-17T03:41:51.281946Z",
     "shell.execute_reply": "2025-01-17T03:41:51.280649Z",
     "shell.execute_reply.started": "2025-01-17T03:41:51.261317Z"
    },
    "trusted": true
   },
   "outputs": [
    {
     "data": {
      "text/plain": [
       "Review Title            0\n",
       "Review Rating           0\n",
       "Review Date             0\n",
       "Brand                   0\n",
       "Category                1\n",
       "Sub Category            1\n",
       "Product Description     1\n",
       "Review Content          0\n",
       "Verified Purchase       0\n",
       "Helpful Review Count    0\n",
       "dtype: int64"
      ]
     },
     "execution_count": 11,
     "metadata": {},
     "output_type": "execute_result"
    }
   ],
   "source": [
    "data.isnull().sum()"
   ]
  },
  {
   "cell_type": "code",
   "execution_count": 12,
   "metadata": {
    "execution": {
     "iopub.execute_input": "2025-01-17T03:41:51.283391Z",
     "iopub.status.busy": "2025-01-17T03:41:51.282991Z",
     "iopub.status.idle": "2025-01-17T03:41:51.310812Z",
     "shell.execute_reply": "2025-01-17T03:41:51.309719Z",
     "shell.execute_reply.started": "2025-01-17T03:41:51.283350Z"
    },
    "trusted": true
   },
   "outputs": [
    {
     "data": {
      "text/html": [
       "<div>\n",
       "<style scoped>\n",
       "    .dataframe tbody tr th:only-of-type {\n",
       "        vertical-align: middle;\n",
       "    }\n",
       "\n",
       "    .dataframe tbody tr th {\n",
       "        vertical-align: top;\n",
       "    }\n",
       "\n",
       "    .dataframe thead th {\n",
       "        text-align: right;\n",
       "    }\n",
       "</style>\n",
       "<table border=\"1\" class=\"dataframe\">\n",
       "  <thead>\n",
       "    <tr style=\"text-align: right;\">\n",
       "      <th></th>\n",
       "      <th>Review Title</th>\n",
       "      <th>Review Rating</th>\n",
       "      <th>Review Date</th>\n",
       "      <th>Brand</th>\n",
       "      <th>Category</th>\n",
       "      <th>Sub Category</th>\n",
       "      <th>Product Description</th>\n",
       "      <th>Review Content</th>\n",
       "      <th>Verified Purchase</th>\n",
       "      <th>Helpful Review Count</th>\n",
       "    </tr>\n",
       "  </thead>\n",
       "  <tbody>\n",
       "    <tr>\n",
       "      <th>0</th>\n",
       "      <td>Best Natural Deodorant!!</td>\n",
       "      <td>5.0</td>\n",
       "      <td>March 6, 2020</td>\n",
       "      <td>Schmidt's Deodorant</td>\n",
       "      <td>Beauty &amp; Personal Care</td>\n",
       "      <td>Personal Care</td>\n",
       "      <td>Schmidt’s natural deodorant formulas use innov...</td>\n",
       "      <td>This is the one natural deodorant that works f...</td>\n",
       "      <td>Verified Purchase</td>\n",
       "      <td>0</td>\n",
       "    </tr>\n",
       "    <tr>\n",
       "      <th>1</th>\n",
       "      <td>Schmidt's Charcoal Deodorant is the best!</td>\n",
       "      <td>5.0</td>\n",
       "      <td>March 6, 2020</td>\n",
       "      <td>Schmidt's Deodorant</td>\n",
       "      <td>Beauty &amp; Personal Care</td>\n",
       "      <td>Personal Care</td>\n",
       "      <td>Schmidt’s natural deodorant formulas use innov...</td>\n",
       "      <td>I am staying away from the conventional deodor...</td>\n",
       "      <td>Verified Purchase</td>\n",
       "      <td>0</td>\n",
       "    </tr>\n",
       "    <tr>\n",
       "      <th>2</th>\n",
       "      <td>Beware. Defective or counterfeit.</td>\n",
       "      <td>1.0</td>\n",
       "      <td>March 6, 2020</td>\n",
       "      <td>Schmidt's Deodorant</td>\n",
       "      <td>Beauty &amp; Personal Care</td>\n",
       "      <td>Personal Care</td>\n",
       "      <td>Schmidt’s natural deodorant formulas use innov...</td>\n",
       "      <td>Do not buy this from Amazon it's either defect...</td>\n",
       "      <td>Verified Purchase</td>\n",
       "      <td>One person found this helpful Helpful</td>\n",
       "    </tr>\n",
       "    <tr>\n",
       "      <th>3</th>\n",
       "      <td>Good for infrequent shavers in cooler months i...</td>\n",
       "      <td>3.0</td>\n",
       "      <td>March 5, 2020</td>\n",
       "      <td>Schmidt's Deodorant</td>\n",
       "      <td>Beauty &amp; Personal Care</td>\n",
       "      <td>Personal Care</td>\n",
       "      <td>Schmidt’s natural deodorant formulas use innov...</td>\n",
       "      <td>I started using this because I was getting cys...</td>\n",
       "      <td>NO</td>\n",
       "      <td>0</td>\n",
       "    </tr>\n",
       "    <tr>\n",
       "      <th>4</th>\n",
       "      <td>This isn’t the true product and will hurt your...</td>\n",
       "      <td>1.0</td>\n",
       "      <td>March 2, 2020</td>\n",
       "      <td>Schmidt's Deodorant</td>\n",
       "      <td>Beauty &amp; Personal Care</td>\n",
       "      <td>Personal Care</td>\n",
       "      <td>Schmidt’s natural deodorant formulas use innov...</td>\n",
       "      <td>Dont buy this from amazon!!!! I never write re...</td>\n",
       "      <td>Verified Purchase</td>\n",
       "      <td>One person found this helpful Helpful</td>\n",
       "    </tr>\n",
       "  </tbody>\n",
       "</table>\n",
       "</div>"
      ],
      "text/plain": [
       "                                        Review Title  Review Rating  \\\n",
       "0                           Best Natural Deodorant!!            5.0   \n",
       "1          Schmidt's Charcoal Deodorant is the best!            5.0   \n",
       "2                  Beware. Defective or counterfeit.            1.0   \n",
       "3  Good for infrequent shavers in cooler months i...            3.0   \n",
       "4  This isn’t the true product and will hurt your...            1.0   \n",
       "\n",
       "     Review Date                Brand                Category   Sub Category  \\\n",
       "0  March 6, 2020  Schmidt's Deodorant  Beauty & Personal Care  Personal Care   \n",
       "1  March 6, 2020  Schmidt's Deodorant  Beauty & Personal Care  Personal Care   \n",
       "2  March 6, 2020  Schmidt's Deodorant  Beauty & Personal Care  Personal Care   \n",
       "3  March 5, 2020  Schmidt's Deodorant  Beauty & Personal Care  Personal Care   \n",
       "4  March 2, 2020  Schmidt's Deodorant  Beauty & Personal Care  Personal Care   \n",
       "\n",
       "                                 Product Description  \\\n",
       "0  Schmidt’s natural deodorant formulas use innov...   \n",
       "1  Schmidt’s natural deodorant formulas use innov...   \n",
       "2  Schmidt’s natural deodorant formulas use innov...   \n",
       "3  Schmidt’s natural deodorant formulas use innov...   \n",
       "4  Schmidt’s natural deodorant formulas use innov...   \n",
       "\n",
       "                                      Review Content  Verified Purchase  \\\n",
       "0  This is the one natural deodorant that works f...  Verified Purchase   \n",
       "1  I am staying away from the conventional deodor...  Verified Purchase   \n",
       "2  Do not buy this from Amazon it's either defect...  Verified Purchase   \n",
       "3  I started using this because I was getting cys...                 NO   \n",
       "4  Dont buy this from amazon!!!! I never write re...  Verified Purchase   \n",
       "\n",
       "                    Helpful Review Count  \n",
       "0                                      0  \n",
       "1                                      0  \n",
       "2  One person found this helpful Helpful  \n",
       "3                                      0  \n",
       "4  One person found this helpful Helpful  "
      ]
     },
     "execution_count": 12,
     "metadata": {},
     "output_type": "execute_result"
    }
   ],
   "source": [
    "data.head()"
   ]
  },
  {
   "cell_type": "code",
   "execution_count": 13,
   "metadata": {
    "execution": {
     "iopub.execute_input": "2025-01-17T03:41:51.312254Z",
     "iopub.status.busy": "2025-01-17T03:41:51.311882Z",
     "iopub.status.idle": "2025-01-17T03:41:51.337498Z",
     "shell.execute_reply": "2025-01-17T03:41:51.336250Z",
     "shell.execute_reply.started": "2025-01-17T03:41:51.312218Z"
    },
    "trusted": true
   },
   "outputs": [
    {
     "data": {
      "text/html": [
       "<div>\n",
       "<style scoped>\n",
       "    .dataframe tbody tr th:only-of-type {\n",
       "        vertical-align: middle;\n",
       "    }\n",
       "\n",
       "    .dataframe tbody tr th {\n",
       "        vertical-align: top;\n",
       "    }\n",
       "\n",
       "    .dataframe thead th {\n",
       "        text-align: right;\n",
       "    }\n",
       "</style>\n",
       "<table border=\"1\" class=\"dataframe\">\n",
       "  <thead>\n",
       "    <tr style=\"text-align: right;\">\n",
       "      <th></th>\n",
       "      <th>Review Title</th>\n",
       "      <th>Review Rating</th>\n",
       "      <th>Review Date</th>\n",
       "      <th>Brand</th>\n",
       "      <th>Category</th>\n",
       "      <th>Sub Category</th>\n",
       "      <th>Product Description</th>\n",
       "      <th>Review Content</th>\n",
       "      <th>Verified Purchase</th>\n",
       "      <th>Helpful Review Count</th>\n",
       "    </tr>\n",
       "  </thead>\n",
       "  <tbody>\n",
       "    <tr>\n",
       "      <th>35</th>\n",
       "      <td>very good. if your kurig has options</td>\n",
       "      <td>4.0</td>\n",
       "      <td>September 4, 2017</td>\n",
       "      <td>Starbucks</td>\n",
       "      <td>NaN</td>\n",
       "      <td>NaN</td>\n",
       "      <td>NaN</td>\n",
       "      <td>very good. if your kurig has options, i highly...</td>\n",
       "      <td>Verified Purchase</td>\n",
       "      <td>0</td>\n",
       "    </tr>\n",
       "  </tbody>\n",
       "</table>\n",
       "</div>"
      ],
      "text/plain": [
       "                            Review Title  Review Rating        Review Date  \\\n",
       "35  very good. if your kurig has options            4.0  September 4, 2017   \n",
       "\n",
       "        Brand Category Sub Category Product Description  \\\n",
       "35  Starbucks      NaN          NaN                 NaN   \n",
       "\n",
       "                                       Review Content  Verified Purchase  \\\n",
       "35  very good. if your kurig has options, i highly...  Verified Purchase   \n",
       "\n",
       "   Helpful Review Count  \n",
       "35                    0  "
      ]
     },
     "execution_count": 13,
     "metadata": {},
     "output_type": "execute_result"
    }
   ],
   "source": [
    "rows_with_nulls = data[data.isnull().any(axis=1)]\n",
    "rows_with_nulls"
   ]
  },
  {
   "cell_type": "code",
   "execution_count": 14,
   "metadata": {
    "execution": {
     "iopub.execute_input": "2025-01-17T03:41:51.341759Z",
     "iopub.status.busy": "2025-01-17T03:41:51.341440Z",
     "iopub.status.idle": "2025-01-17T03:41:51.362917Z",
     "shell.execute_reply": "2025-01-17T03:41:51.361779Z",
     "shell.execute_reply.started": "2025-01-17T03:41:51.341731Z"
    },
    "trusted": true
   },
   "outputs": [
    {
     "data": {
      "text/html": [
       "<div>\n",
       "<style scoped>\n",
       "    .dataframe tbody tr th:only-of-type {\n",
       "        vertical-align: middle;\n",
       "    }\n",
       "\n",
       "    .dataframe tbody tr th {\n",
       "        vertical-align: top;\n",
       "    }\n",
       "\n",
       "    .dataframe thead th {\n",
       "        text-align: right;\n",
       "    }\n",
       "</style>\n",
       "<table border=\"1\" class=\"dataframe\">\n",
       "  <thead>\n",
       "    <tr style=\"text-align: right;\">\n",
       "      <th></th>\n",
       "      <th>Review Title</th>\n",
       "      <th>Review Rating</th>\n",
       "      <th>Review Date</th>\n",
       "      <th>Brand</th>\n",
       "      <th>Category</th>\n",
       "      <th>Sub Category</th>\n",
       "      <th>Product Description</th>\n",
       "      <th>Review Content</th>\n",
       "      <th>Verified Purchase</th>\n",
       "      <th>Helpful Review Count</th>\n",
       "    </tr>\n",
       "  </thead>\n",
       "  <tbody>\n",
       "    <tr>\n",
       "      <th>35</th>\n",
       "      <td>very good. if your kurig has options</td>\n",
       "      <td>4.0</td>\n",
       "      <td>September 4, 2017</td>\n",
       "      <td>Starbucks</td>\n",
       "      <td>NaN</td>\n",
       "      <td>NaN</td>\n",
       "      <td>NaN</td>\n",
       "      <td>very good. if your kurig has options, i highly...</td>\n",
       "      <td>Verified Purchase</td>\n",
       "      <td>0</td>\n",
       "    </tr>\n",
       "  </tbody>\n",
       "</table>\n",
       "</div>"
      ],
      "text/plain": [
       "                            Review Title  Review Rating        Review Date  \\\n",
       "35  very good. if your kurig has options            4.0  September 4, 2017   \n",
       "\n",
       "        Brand Category Sub Category Product Description  \\\n",
       "35  Starbucks      NaN          NaN                 NaN   \n",
       "\n",
       "                                       Review Content  Verified Purchase  \\\n",
       "35  very good. if your kurig has options, i highly...  Verified Purchase   \n",
       "\n",
       "   Helpful Review Count  \n",
       "35                    0  "
      ]
     },
     "execution_count": 14,
     "metadata": {},
     "output_type": "execute_result"
    }
   ],
   "source": [
    "data[data['Brand']=='Starbucks']"
   ]
  },
  {
   "cell_type": "code",
   "execution_count": 15,
   "metadata": {
    "execution": {
     "iopub.execute_input": "2025-01-17T03:41:51.365825Z",
     "iopub.status.busy": "2025-01-17T03:41:51.365545Z",
     "iopub.status.idle": "2025-01-17T03:41:51.381188Z",
     "shell.execute_reply": "2025-01-17T03:41:51.379994Z",
     "shell.execute_reply.started": "2025-01-17T03:41:51.365802Z"
    },
    "trusted": true
   },
   "outputs": [
    {
     "data": {
      "text/plain": [
       "array([\"Schmidt's Deodorant\", 'Sir Kensingtons', 'DOVE WOMENS DEO',\n",
       "       'SheaMoisture', 'Starbucks', 'Talenti'], dtype=object)"
      ]
     },
     "execution_count": 15,
     "metadata": {},
     "output_type": "execute_result"
    }
   ],
   "source": [
    "data['Brand'].unique()"
   ]
  },
  {
   "cell_type": "code",
   "execution_count": 16,
   "metadata": {
    "execution": {
     "iopub.execute_input": "2025-01-17T03:41:51.382792Z",
     "iopub.status.busy": "2025-01-17T03:41:51.382334Z",
     "iopub.status.idle": "2025-01-17T03:41:51.400902Z",
     "shell.execute_reply": "2025-01-17T03:41:51.399762Z",
     "shell.execute_reply.started": "2025-01-17T03:41:51.382666Z"
    },
    "trusted": true
   },
   "outputs": [
    {
     "data": {
      "text/plain": [
       "Brand\n",
       "Schmidt's Deodorant    20\n",
       "SheaMoisture           15\n",
       "Talenti                 9\n",
       "Sir Kensingtons         4\n",
       "DOVE WOMENS DEO         1\n",
       "Starbucks               1\n",
       "Name: count, dtype: int64"
      ]
     },
     "execution_count": 16,
     "metadata": {},
     "output_type": "execute_result"
    }
   ],
   "source": [
    "data['Brand'].value_counts()"
   ]
  },
  {
   "cell_type": "code",
   "execution_count": 17,
   "metadata": {
    "execution": {
     "iopub.execute_input": "2025-01-17T03:41:51.402370Z",
     "iopub.status.busy": "2025-01-17T03:41:51.401991Z",
     "iopub.status.idle": "2025-01-17T03:41:51.417399Z",
     "shell.execute_reply": "2025-01-17T03:41:51.416331Z",
     "shell.execute_reply.started": "2025-01-17T03:41:51.402330Z"
    },
    "trusted": true
   },
   "outputs": [],
   "source": [
    "data.fillna(0,inplace=True)"
   ]
  },
  {
   "cell_type": "code",
   "execution_count": 18,
   "metadata": {
    "execution": {
     "iopub.execute_input": "2025-01-17T03:41:51.418712Z",
     "iopub.status.busy": "2025-01-17T03:41:51.418406Z",
     "iopub.status.idle": "2025-01-17T03:41:51.443649Z",
     "shell.execute_reply": "2025-01-17T03:41:51.442467Z",
     "shell.execute_reply.started": "2025-01-17T03:41:51.418651Z"
    },
    "trusted": true
   },
   "outputs": [
    {
     "data": {
      "text/html": [
       "<div>\n",
       "<style scoped>\n",
       "    .dataframe tbody tr th:only-of-type {\n",
       "        vertical-align: middle;\n",
       "    }\n",
       "\n",
       "    .dataframe tbody tr th {\n",
       "        vertical-align: top;\n",
       "    }\n",
       "\n",
       "    .dataframe thead th {\n",
       "        text-align: right;\n",
       "    }\n",
       "</style>\n",
       "<table border=\"1\" class=\"dataframe\">\n",
       "  <thead>\n",
       "    <tr style=\"text-align: right;\">\n",
       "      <th></th>\n",
       "      <th>Review Title</th>\n",
       "      <th>Review Rating</th>\n",
       "      <th>Review Date</th>\n",
       "      <th>Brand</th>\n",
       "      <th>Category</th>\n",
       "      <th>Sub Category</th>\n",
       "      <th>Product Description</th>\n",
       "      <th>Review Content</th>\n",
       "      <th>Verified Purchase</th>\n",
       "      <th>Helpful Review Count</th>\n",
       "    </tr>\n",
       "  </thead>\n",
       "  <tbody>\n",
       "    <tr>\n",
       "      <th>35</th>\n",
       "      <td>very good. if your kurig has options</td>\n",
       "      <td>4.0</td>\n",
       "      <td>September 4, 2017</td>\n",
       "      <td>Starbucks</td>\n",
       "      <td>0</td>\n",
       "      <td>0</td>\n",
       "      <td>0</td>\n",
       "      <td>very good. if your kurig has options, i highly...</td>\n",
       "      <td>Verified Purchase</td>\n",
       "      <td>0</td>\n",
       "    </tr>\n",
       "  </tbody>\n",
       "</table>\n",
       "</div>"
      ],
      "text/plain": [
       "                            Review Title  Review Rating        Review Date  \\\n",
       "35  very good. if your kurig has options            4.0  September 4, 2017   \n",
       "\n",
       "        Brand Category Sub Category Product Description  \\\n",
       "35  Starbucks        0            0                   0   \n",
       "\n",
       "                                       Review Content  Verified Purchase  \\\n",
       "35  very good. if your kurig has options, i highly...  Verified Purchase   \n",
       "\n",
       "   Helpful Review Count  \n",
       "35                    0  "
      ]
     },
     "execution_count": 18,
     "metadata": {},
     "output_type": "execute_result"
    }
   ],
   "source": [
    "data[data['Brand']=='Starbucks']"
   ]
  },
  {
   "cell_type": "code",
   "execution_count": 19,
   "metadata": {
    "execution": {
     "iopub.execute_input": "2025-01-17T03:41:51.445230Z",
     "iopub.status.busy": "2025-01-17T03:41:51.444848Z",
     "iopub.status.idle": "2025-01-17T03:41:51.463159Z",
     "shell.execute_reply": "2025-01-17T03:41:51.461924Z",
     "shell.execute_reply.started": "2025-01-17T03:41:51.445195Z"
    },
    "trusted": true
   },
   "outputs": [
    {
     "name": "stderr",
     "output_type": "stream",
     "text": [
      "C:\\Users\\user\\AppData\\Local\\Temp\\ipykernel_5784\\767288600.py:1: FutureWarning: A value is trying to be set on a copy of a DataFrame or Series through chained assignment using an inplace method.\n",
      "The behavior will change in pandas 3.0. This inplace method will never work because the intermediate object on which we are setting values always behaves as a copy.\n",
      "\n",
      "For example, when doing 'df[col].method(value, inplace=True)', try using 'df.method({col: value}, inplace=True)' or df[col] = df[col].method(value) instead, to perform the operation inplace on the original object.\n",
      "\n",
      "\n",
      "  data['Sub Category'].replace(0,'Coffee Shops',inplace=True)\n"
     ]
    }
   ],
   "source": [
    "data['Sub Category'].replace(0,'Coffee Shops',inplace=True)"
   ]
  },
  {
   "cell_type": "code",
   "execution_count": 20,
   "metadata": {
    "execution": {
     "iopub.execute_input": "2025-01-17T03:41:51.464714Z",
     "iopub.status.busy": "2025-01-17T03:41:51.464258Z",
     "iopub.status.idle": "2025-01-17T03:41:51.484031Z",
     "shell.execute_reply": "2025-01-17T03:41:51.482760Z",
     "shell.execute_reply.started": "2025-01-17T03:41:51.464676Z"
    },
    "trusted": true
   },
   "outputs": [
    {
     "name": "stderr",
     "output_type": "stream",
     "text": [
      "C:\\Users\\user\\AppData\\Local\\Temp\\ipykernel_5784\\1349978011.py:1: FutureWarning: A value is trying to be set on a copy of a DataFrame or Series through chained assignment using an inplace method.\n",
      "The behavior will change in pandas 3.0. This inplace method will never work because the intermediate object on which we are setting values always behaves as a copy.\n",
      "\n",
      "For example, when doing 'df[col].method(value, inplace=True)', try using 'df.method({col: value}, inplace=True)' or df[col] = df[col].method(value) instead, to perform the operation inplace on the original object.\n",
      "\n",
      "\n",
      "  data['Category'].replace(0,'Food & Beverage',inplace=True)\n"
     ]
    }
   ],
   "source": [
    "data['Category'].replace(0,'Food & Beverage',inplace=True)"
   ]
  },
  {
   "cell_type": "code",
   "execution_count": 21,
   "metadata": {
    "execution": {
     "iopub.execute_input": "2025-01-17T03:41:51.485577Z",
     "iopub.status.busy": "2025-01-17T03:41:51.485188Z",
     "iopub.status.idle": "2025-01-17T03:41:51.508003Z",
     "shell.execute_reply": "2025-01-17T03:41:51.506728Z",
     "shell.execute_reply.started": "2025-01-17T03:41:51.485542Z"
    },
    "trusted": true
   },
   "outputs": [
    {
     "name": "stderr",
     "output_type": "stream",
     "text": [
      "C:\\Users\\user\\AppData\\Local\\Temp\\ipykernel_5784\\614578370.py:1: FutureWarning: A value is trying to be set on a copy of a DataFrame or Series through chained assignment using an inplace method.\n",
      "The behavior will change in pandas 3.0. This inplace method will never work because the intermediate object on which we are setting values always behaves as a copy.\n",
      "\n",
      "For example, when doing 'df[col].method(value, inplace=True)', try using 'df.method({col: value}, inplace=True)' or df[col] = df[col].method(value) instead, to perform the operation inplace on the original object.\n",
      "\n",
      "\n",
      "  data['Product Description'].replace(0,'Starbucks specializes in handcrafted beverages, including premium coffee, espresso, tea, and blended drinks, along with a selection of food items and consumer goods.',inplace=True)\n"
     ]
    }
   ],
   "source": [
    "data['Product Description'].replace(0,'Starbucks specializes in handcrafted beverages, including premium coffee, espresso, tea, and blended drinks, along with a selection of food items and consumer goods.',inplace=True)"
   ]
  },
  {
   "cell_type": "code",
   "execution_count": 22,
   "metadata": {
    "execution": {
     "iopub.execute_input": "2025-01-17T03:41:51.509587Z",
     "iopub.status.busy": "2025-01-17T03:41:51.509065Z",
     "iopub.status.idle": "2025-01-17T03:41:51.535998Z",
     "shell.execute_reply": "2025-01-17T03:41:51.534767Z",
     "shell.execute_reply.started": "2025-01-17T03:41:51.509546Z"
    },
    "trusted": true
   },
   "outputs": [
    {
     "data": {
      "text/plain": [
       "Review Title            0\n",
       "Review Rating           0\n",
       "Review Date             0\n",
       "Brand                   0\n",
       "Category                0\n",
       "Sub Category            0\n",
       "Product Description     0\n",
       "Review Content          0\n",
       "Verified Purchase       0\n",
       "Helpful Review Count    0\n",
       "dtype: int64"
      ]
     },
     "execution_count": 22,
     "metadata": {},
     "output_type": "execute_result"
    }
   ],
   "source": [
    "data.isnull().sum()"
   ]
  },
  {
   "cell_type": "code",
   "execution_count": 23,
   "metadata": {
    "execution": {
     "iopub.execute_input": "2025-01-17T03:41:51.537832Z",
     "iopub.status.busy": "2025-01-17T03:41:51.537360Z",
     "iopub.status.idle": "2025-01-17T03:41:51.565201Z",
     "shell.execute_reply": "2025-01-17T03:41:51.564030Z",
     "shell.execute_reply.started": "2025-01-17T03:41:51.537787Z"
    },
    "trusted": true
   },
   "outputs": [
    {
     "data": {
      "text/html": [
       "<div>\n",
       "<style scoped>\n",
       "    .dataframe tbody tr th:only-of-type {\n",
       "        vertical-align: middle;\n",
       "    }\n",
       "\n",
       "    .dataframe tbody tr th {\n",
       "        vertical-align: top;\n",
       "    }\n",
       "\n",
       "    .dataframe thead th {\n",
       "        text-align: right;\n",
       "    }\n",
       "</style>\n",
       "<table border=\"1\" class=\"dataframe\">\n",
       "  <thead>\n",
       "    <tr style=\"text-align: right;\">\n",
       "      <th></th>\n",
       "      <th>Review Title</th>\n",
       "      <th>Review Rating</th>\n",
       "      <th>Review Date</th>\n",
       "      <th>Brand</th>\n",
       "      <th>Category</th>\n",
       "      <th>Sub Category</th>\n",
       "      <th>Product Description</th>\n",
       "      <th>Review Content</th>\n",
       "      <th>Verified Purchase</th>\n",
       "      <th>Helpful Review Count</th>\n",
       "    </tr>\n",
       "  </thead>\n",
       "  <tbody>\n",
       "    <tr>\n",
       "      <th>35</th>\n",
       "      <td>very good. if your kurig has options</td>\n",
       "      <td>4.0</td>\n",
       "      <td>September 4, 2017</td>\n",
       "      <td>Starbucks</td>\n",
       "      <td>Food &amp; Beverage</td>\n",
       "      <td>Coffee Shops</td>\n",
       "      <td>Starbucks specializes in handcrafted beverages...</td>\n",
       "      <td>very good. if your kurig has options, i highly...</td>\n",
       "      <td>Verified Purchase</td>\n",
       "      <td>0</td>\n",
       "    </tr>\n",
       "  </tbody>\n",
       "</table>\n",
       "</div>"
      ],
      "text/plain": [
       "                            Review Title  Review Rating        Review Date  \\\n",
       "35  very good. if your kurig has options            4.0  September 4, 2017   \n",
       "\n",
       "        Brand         Category  Sub Category  \\\n",
       "35  Starbucks  Food & Beverage  Coffee Shops   \n",
       "\n",
       "                                  Product Description  \\\n",
       "35  Starbucks specializes in handcrafted beverages...   \n",
       "\n",
       "                                       Review Content  Verified Purchase  \\\n",
       "35  very good. if your kurig has options, i highly...  Verified Purchase   \n",
       "\n",
       "   Helpful Review Count  \n",
       "35                    0  "
      ]
     },
     "execution_count": 23,
     "metadata": {},
     "output_type": "execute_result"
    }
   ],
   "source": [
    "data[data['Brand']=='Starbucks']"
   ]
  },
  {
   "cell_type": "code",
   "execution_count": 24,
   "metadata": {
    "execution": {
     "iopub.execute_input": "2025-01-17T03:41:51.567145Z",
     "iopub.status.busy": "2025-01-17T03:41:51.566617Z",
     "iopub.status.idle": "2025-01-17T03:41:51.588051Z",
     "shell.execute_reply": "2025-01-17T03:41:51.586866Z",
     "shell.execute_reply.started": "2025-01-17T03:41:51.567075Z"
    },
    "trusted": true
   },
   "outputs": [
    {
     "data": {
      "text/plain": [
       "np.int64(0)"
      ]
     },
     "execution_count": 24,
     "metadata": {},
     "output_type": "execute_result"
    }
   ],
   "source": [
    "data.duplicated().sum()"
   ]
  },
  {
   "cell_type": "code",
   "execution_count": 25,
   "metadata": {
    "execution": {
     "iopub.execute_input": "2025-01-17T03:41:51.589608Z",
     "iopub.status.busy": "2025-01-17T03:41:51.589220Z",
     "iopub.status.idle": "2025-01-17T03:41:51.605386Z",
     "shell.execute_reply": "2025-01-17T03:41:51.604209Z",
     "shell.execute_reply.started": "2025-01-17T03:41:51.589573Z"
    },
    "trusted": true
   },
   "outputs": [
    {
     "data": {
      "text/plain": [
       "Helpful Review Count\n",
       "0                                        38\n",
       "One person found this helpful Helpful     9\n",
       "2                                         2\n",
       "7                                         1\n",
       "Name: count, dtype: int64"
      ]
     },
     "execution_count": 25,
     "metadata": {},
     "output_type": "execute_result"
    }
   ],
   "source": [
    "data['Helpful Review Count'].value_counts()"
   ]
  },
  {
   "cell_type": "code",
   "execution_count": 26,
   "metadata": {
    "execution": {
     "iopub.execute_input": "2025-01-17T03:41:51.606862Z",
     "iopub.status.busy": "2025-01-17T03:41:51.606457Z",
     "iopub.status.idle": "2025-01-17T03:41:51.628682Z",
     "shell.execute_reply": "2025-01-17T03:41:51.627357Z",
     "shell.execute_reply.started": "2025-01-17T03:41:51.606827Z"
    },
    "trusted": true
   },
   "outputs": [
    {
     "name": "stderr",
     "output_type": "stream",
     "text": [
      "C:\\Users\\user\\AppData\\Local\\Temp\\ipykernel_5784\\2818772089.py:1: FutureWarning: A value is trying to be set on a copy of a DataFrame or Series through chained assignment using an inplace method.\n",
      "The behavior will change in pandas 3.0. This inplace method will never work because the intermediate object on which we are setting values always behaves as a copy.\n",
      "\n",
      "For example, when doing 'df[col].method(value, inplace=True)', try using 'df.method({col: value}, inplace=True)' or df[col] = df[col].method(value) instead, to perform the operation inplace on the original object.\n",
      "\n",
      "\n",
      "  data['Helpful Review Count'].replace('One person found this helpful Helpful',1,inplace=True)\n"
     ]
    }
   ],
   "source": [
    "data['Helpful Review Count'].replace('One person found this helpful Helpful',1,inplace=True)"
   ]
  },
  {
   "cell_type": "code",
   "execution_count": 27,
   "metadata": {
    "execution": {
     "iopub.execute_input": "2025-01-17T03:41:51.630361Z",
     "iopub.status.busy": "2025-01-17T03:41:51.629961Z",
     "iopub.status.idle": "2025-01-17T03:41:51.651668Z",
     "shell.execute_reply": "2025-01-17T03:41:51.650518Z",
     "shell.execute_reply.started": "2025-01-17T03:41:51.630325Z"
    },
    "trusted": true
   },
   "outputs": [
    {
     "data": {
      "text/plain": [
       "Helpful Review Count\n",
       "0    38\n",
       "1     9\n",
       "2     2\n",
       "7     1\n",
       "Name: count, dtype: int64"
      ]
     },
     "execution_count": 27,
     "metadata": {},
     "output_type": "execute_result"
    }
   ],
   "source": [
    "data['Helpful Review Count'].value_counts()"
   ]
  },
  {
   "cell_type": "code",
   "execution_count": 28,
   "metadata": {
    "execution": {
     "iopub.execute_input": "2025-01-17T03:41:51.653345Z",
     "iopub.status.busy": "2025-01-17T03:41:51.652877Z",
     "iopub.status.idle": "2025-01-17T03:41:51.997314Z",
     "shell.execute_reply": "2025-01-17T03:41:51.996176Z",
     "shell.execute_reply.started": "2025-01-17T03:41:51.653238Z"
    },
    "trusted": true
   },
   "outputs": [
    {
     "data": {
      "image/png": "[encoded data removed]",
      "text/plain": [
       "<Figure size 640x480 with 1 Axes>"
      ]
     },
     "metadata": {},
     "output_type": "display_data"
    }
   ],
   "source": [
    "data['Helpful Review Count'].value_counts().plot(kind='barh')\n",
    "plt.xlabel('Count')\n",
    "plt.ylabel('Helpful Review Count')\n",
    "plt.title('Helpful Review Count Distribution');"
   ]
  },
  {
   "cell_type": "code",
   "execution_count": 29,
   "metadata": {
    "execution": {
     "iopub.execute_input": "2025-01-17T03:41:51.998568Z",
     "iopub.status.busy": "2025-01-17T03:41:51.998211Z",
     "iopub.status.idle": "2025-01-17T03:41:52.009960Z",
     "shell.execute_reply": "2025-01-17T03:41:52.008774Z",
     "shell.execute_reply.started": "2025-01-17T03:41:51.998541Z"
    },
    "trusted": true
   },
   "outputs": [
    {
     "data": {
      "text/plain": [
       "Brand                Review Rating\n",
       "DOVE WOMENS DEO      5.0               1\n",
       "Schmidt's Deodorant  1.0               4\n",
       "                     2.0               2\n",
       "                     3.0               2\n",
       "                     4.0               2\n",
       "                     5.0              10\n",
       "SheaMoisture         1.0               1\n",
       "                     4.0               1\n",
       "                     5.0              13\n",
       "Sir Kensingtons      4.0               1\n",
       "                     5.0               3\n",
       "Starbucks            4.0               1\n",
       "Talenti              1.0               1\n",
       "                     3.0               1\n",
       "                     5.0               7\n",
       "Name: Review Rating, dtype: int64"
      ]
     },
     "execution_count": 29,
     "metadata": {},
     "output_type": "execute_result"
    }
   ],
   "source": [
    "data.groupby(['Brand','Review Rating'])['Review Rating'].count()"
   ]
  },
  {
   "cell_type": "code",
   "execution_count": 30,
   "metadata": {
    "execution": {
     "iopub.execute_input": "2025-01-17T03:41:52.011526Z",
     "iopub.status.busy": "2025-01-17T03:41:52.011122Z",
     "iopub.status.idle": "2025-01-17T03:41:52.377790Z",
     "shell.execute_reply": "2025-01-17T03:41:52.376802Z",
     "shell.execute_reply.started": "2025-01-17T03:41:52.011484Z"
    },
    "trusted": true
   },
   "outputs": [
    {
     "data": {
      "image/png": "[encoded data removed]",
      "text/plain": [
       "<Figure size 640x480 with 1 Axes>"
      ]
     },
     "metadata": {},
     "output_type": "display_data"
    }
   ],
   "source": [
    "data.groupby(['Brand','Review Rating'])['Review Rating'].count().plot(kind='bar')\n",
    "plt.xlabel('Brand and Review Rating')\n",
    "plt.ylabel('Count')\n",
    "plt.title('Review Ratings Count by Brand');"
   ]
  },
  {
   "cell_type": "code",
   "execution_count": null,
   "metadata": {
    "trusted": true
   },
   "outputs": [],
   "source": []
  },
  {
   "cell_type": "code",
   "execution_count": 31,
   "metadata": {
    "execution": {
     "iopub.execute_input": "2025-01-17T03:41:52.379054Z",
     "iopub.status.busy": "2025-01-17T03:41:52.378759Z",
     "iopub.status.idle": "2025-01-17T03:41:52.385904Z",
     "shell.execute_reply": "2025-01-17T03:41:52.384681Z",
     "shell.execute_reply.started": "2025-01-17T03:41:52.379029Z"
    },
    "trusted": true
   },
   "outputs": [
    {
     "data": {
      "text/plain": [
       "Index(['Review Title', 'Review Rating', 'Review Date', 'Brand', 'Category',\n",
       "       'Sub Category', 'Product Description', 'Review Content',\n",
       "       'Verified Purchase', 'Helpful Review Count'],\n",
       "      dtype='object')"
      ]
     },
     "execution_count": 31,
     "metadata": {},
     "output_type": "execute_result"
    }
   ],
   "source": [
    "data.columns"
   ]
  },
  {
   "cell_type": "code",
   "execution_count": 32,
   "metadata": {
    "execution": {
     "iopub.execute_input": "2025-01-17T03:41:52.387544Z",
     "iopub.status.busy": "2025-01-17T03:41:52.387136Z",
     "iopub.status.idle": "2025-01-17T03:41:52.411363Z",
     "shell.execute_reply": "2025-01-17T03:41:52.410361Z",
     "shell.execute_reply.started": "2025-01-17T03:41:52.387510Z"
    },
    "trusted": true
   },
   "outputs": [
    {
     "data": {
      "text/plain": [
       "Review Title            49\n",
       "Review Rating            5\n",
       "Review Date             36\n",
       "Brand                    6\n",
       "Category                 3\n",
       "Sub Category             5\n",
       "Product Description      8\n",
       "Review Content          50\n",
       "Verified Purchase        2\n",
       "Helpful Review Count     4\n",
       "dtype: int64"
      ]
     },
     "execution_count": 32,
     "metadata": {},
     "output_type": "execute_result"
    }
   ],
   "source": [
    "data.nunique()"
   ]
  },
  {
   "cell_type": "code",
   "execution_count": 33,
   "metadata": {
    "execution": {
     "iopub.execute_input": "2025-01-17T03:41:52.412680Z",
     "iopub.status.busy": "2025-01-17T03:41:52.412365Z",
     "iopub.status.idle": "2025-01-17T03:41:52.427482Z",
     "shell.execute_reply": "2025-01-17T03:41:52.426382Z",
     "shell.execute_reply.started": "2025-01-17T03:41:52.412655Z"
    },
    "trusted": true
   },
   "outputs": [
    {
     "data": {
      "text/plain": [
       "array(['Beauty & Personal Care', 'Grocery & Gourmet Food',\n",
       "       'Food & Beverage'], dtype=object)"
      ]
     },
     "execution_count": 33,
     "metadata": {},
     "output_type": "execute_result"
    }
   ],
   "source": [
    "data['Category'].unique()"
   ]
  },
  {
   "cell_type": "code",
   "execution_count": 34,
   "metadata": {
    "execution": {
     "iopub.execute_input": "2025-01-17T03:41:52.428967Z",
     "iopub.status.busy": "2025-01-17T03:41:52.428603Z",
     "iopub.status.idle": "2025-01-17T03:41:52.446321Z",
     "shell.execute_reply": "2025-01-17T03:41:52.444874Z",
     "shell.execute_reply.started": "2025-01-17T03:41:52.428942Z"
    },
    "trusted": true
   },
   "outputs": [
    {
     "data": {
      "text/plain": [
       "array(['Personal Care', 'Pantry Staples', 'Skin Care', 'Coffee Shops',\n",
       "       'Frozen'], dtype=object)"
      ]
     },
     "execution_count": 34,
     "metadata": {},
     "output_type": "execute_result"
    }
   ],
   "source": [
    "data['Sub Category'].unique()"
   ]
  },
  {
   "cell_type": "code",
   "execution_count": 35,
   "metadata": {
    "execution": {
     "iopub.execute_input": "2025-01-17T03:41:52.447701Z",
     "iopub.status.busy": "2025-01-17T03:41:52.447351Z",
     "iopub.status.idle": "2025-01-17T03:41:52.467588Z",
     "shell.execute_reply": "2025-01-17T03:41:52.466391Z",
     "shell.execute_reply.started": "2025-01-17T03:41:52.447668Z"
    },
    "trusted": true
   },
   "outputs": [
    {
     "data": {
      "text/plain": [
       "Sub Category    Helpful Review Count\n",
       "Coffee Shops    0                        1\n",
       "Frozen          1                        2\n",
       "                0                        6\n",
       "                2                        1\n",
       "Pantry Staples  0                        4\n",
       "Personal Care   1                        6\n",
       "                0                       13\n",
       "                2                        1\n",
       "                7                        1\n",
       "Skin Care       1                        1\n",
       "                0                       14\n",
       "Name: Helpful Review Count, dtype: int64"
      ]
     },
     "execution_count": 35,
     "metadata": {},
     "output_type": "execute_result"
    }
   ],
   "source": [
    "data.groupby(['Sub Category','Helpful Review Count'])['Helpful Review Count'].count()"
   ]
  },
  {
   "cell_type": "code",
   "execution_count": 36,
   "metadata": {
    "execution": {
     "iopub.execute_input": "2025-01-17T03:41:52.469150Z",
     "iopub.status.busy": "2025-01-17T03:41:52.468789Z",
     "iopub.status.idle": "2025-01-17T03:41:52.762652Z",
     "shell.execute_reply": "2025-01-17T03:41:52.761340Z",
     "shell.execute_reply.started": "2025-01-17T03:41:52.469116Z"
    },
    "trusted": true
   },
   "outputs": [
    {
     "data": {
      "image/png": "[encoded data removed]",
      "text/plain": [
       "<Figure size 640x480 with 1 Axes>"
      ]
     },
     "metadata": {},
     "output_type": "display_data"
    }
   ],
   "source": [
    "plt.title('Sub Category and Helpful Review Count')\n",
    "sns.countplot(x='Sub Category',hue='Helpful Review Count',data=data)\n",
    "plt.xticks(rotation=90)\n",
    "plt.show()"
   ]
  },
  {
   "cell_type": "code",
   "execution_count": 37,
   "metadata": {
    "execution": {
     "iopub.execute_input": "2025-01-17T03:41:52.763911Z",
     "iopub.status.busy": "2025-01-17T03:41:52.763620Z",
     "iopub.status.idle": "2025-01-17T03:41:53.062670Z",
     "shell.execute_reply": "2025-01-17T03:41:53.061393Z",
     "shell.execute_reply.started": "2025-01-17T03:41:52.763886Z"
    },
    "trusted": true
   },
   "outputs": [
    {
     "data": {
      "image/png": "[encoded data removed]",
      "text/plain": [
       "<Figure size 640x480 with 1 Axes>"
      ]
     },
     "metadata": {},
     "output_type": "display_data"
    }
   ],
   "source": [
    "plt.title('Sub Category and Review Rating')\n",
    "sns.countplot(x='Sub Category',hue='Review Rating',data=data)\n",
    "plt.xticks(rotation=90)\n",
    "plt.show()"
   ]
  },
  {
   "cell_type": "code",
   "execution_count": 38,
   "metadata": {
    "execution": {
     "iopub.execute_input": "2025-01-17T03:41:53.064055Z",
     "iopub.status.busy": "2025-01-17T03:41:53.063734Z",
     "iopub.status.idle": "2025-01-17T03:41:53.079526Z",
     "shell.execute_reply": "2025-01-17T03:41:53.078388Z",
     "shell.execute_reply.started": "2025-01-17T03:41:53.064029Z"
    },
    "trusted": true
   },
   "outputs": [
    {
     "data": {
      "text/html": [
       "<div>\n",
       "<style scoped>\n",
       "    .dataframe tbody tr th:only-of-type {\n",
       "        vertical-align: middle;\n",
       "    }\n",
       "\n",
       "    .dataframe tbody tr th {\n",
       "        vertical-align: top;\n",
       "    }\n",
       "\n",
       "    .dataframe thead th {\n",
       "        text-align: right;\n",
       "    }\n",
       "</style>\n",
       "<table border=\"1\" class=\"dataframe\">\n",
       "  <thead>\n",
       "    <tr style=\"text-align: right;\">\n",
       "      <th></th>\n",
       "      <th>Review Title</th>\n",
       "      <th>Review Rating</th>\n",
       "      <th>Review Date</th>\n",
       "      <th>Brand</th>\n",
       "      <th>Category</th>\n",
       "      <th>Sub Category</th>\n",
       "      <th>Product Description</th>\n",
       "      <th>Review Content</th>\n",
       "      <th>Verified Purchase</th>\n",
       "      <th>Helpful Review Count</th>\n",
       "    </tr>\n",
       "  </thead>\n",
       "  <tbody>\n",
       "    <tr>\n",
       "      <th>0</th>\n",
       "      <td>Best Natural Deodorant!!</td>\n",
       "      <td>5.0</td>\n",
       "      <td>March 6, 2020</td>\n",
       "      <td>Schmidt's Deodorant</td>\n",
       "      <td>Beauty &amp; Personal Care</td>\n",
       "      <td>Personal Care</td>\n",
       "      <td>Schmidt’s natural deodorant formulas use innov...</td>\n",
       "      <td>This is the one natural deodorant that works f...</td>\n",
       "      <td>Verified Purchase</td>\n",
       "      <td>0</td>\n",
       "    </tr>\n",
       "    <tr>\n",
       "      <th>1</th>\n",
       "      <td>Schmidt's Charcoal Deodorant is the best!</td>\n",
       "      <td>5.0</td>\n",
       "      <td>March 6, 2020</td>\n",
       "      <td>Schmidt's Deodorant</td>\n",
       "      <td>Beauty &amp; Personal Care</td>\n",
       "      <td>Personal Care</td>\n",
       "      <td>Schmidt’s natural deodorant formulas use innov...</td>\n",
       "      <td>I am staying away from the conventional deodor...</td>\n",
       "      <td>Verified Purchase</td>\n",
       "      <td>0</td>\n",
       "    </tr>\n",
       "    <tr>\n",
       "      <th>2</th>\n",
       "      <td>Beware. Defective or counterfeit.</td>\n",
       "      <td>1.0</td>\n",
       "      <td>March 6, 2020</td>\n",
       "      <td>Schmidt's Deodorant</td>\n",
       "      <td>Beauty &amp; Personal Care</td>\n",
       "      <td>Personal Care</td>\n",
       "      <td>Schmidt’s natural deodorant formulas use innov...</td>\n",
       "      <td>Do not buy this from Amazon it's either defect...</td>\n",
       "      <td>Verified Purchase</td>\n",
       "      <td>1</td>\n",
       "    </tr>\n",
       "    <tr>\n",
       "      <th>3</th>\n",
       "      <td>Good for infrequent shavers in cooler months i...</td>\n",
       "      <td>3.0</td>\n",
       "      <td>March 5, 2020</td>\n",
       "      <td>Schmidt's Deodorant</td>\n",
       "      <td>Beauty &amp; Personal Care</td>\n",
       "      <td>Personal Care</td>\n",
       "      <td>Schmidt’s natural deodorant formulas use innov...</td>\n",
       "      <td>I started using this because I was getting cys...</td>\n",
       "      <td>NO</td>\n",
       "      <td>0</td>\n",
       "    </tr>\n",
       "    <tr>\n",
       "      <th>4</th>\n",
       "      <td>This isn’t the true product and will hurt your...</td>\n",
       "      <td>1.0</td>\n",
       "      <td>March 2, 2020</td>\n",
       "      <td>Schmidt's Deodorant</td>\n",
       "      <td>Beauty &amp; Personal Care</td>\n",
       "      <td>Personal Care</td>\n",
       "      <td>Schmidt’s natural deodorant formulas use innov...</td>\n",
       "      <td>Dont buy this from amazon!!!! I never write re...</td>\n",
       "      <td>Verified Purchase</td>\n",
       "      <td>1</td>\n",
       "    </tr>\n",
       "    <tr>\n",
       "      <th>5</th>\n",
       "      <td>A good choice for deodorant</td>\n",
       "      <td>5.0</td>\n",
       "      <td>March 1, 2020</td>\n",
       "      <td>Schmidt's Deodorant</td>\n",
       "      <td>Beauty &amp; Personal Care</td>\n",
       "      <td>Personal Care</td>\n",
       "      <td>Schmidt’s natural deodorant formulas use innov...</td>\n",
       "      <td>Great natural deodorant! It works!</td>\n",
       "      <td>Verified Purchase</td>\n",
       "      <td>0</td>\n",
       "    </tr>\n",
       "    <tr>\n",
       "      <th>6</th>\n",
       "      <td>Nice Smell</td>\n",
       "      <td>5.0</td>\n",
       "      <td>February 26, 2020</td>\n",
       "      <td>Schmidt's Deodorant</td>\n",
       "      <td>Beauty &amp; Personal Care</td>\n",
       "      <td>Personal Care</td>\n",
       "      <td>Schmidt’s natural deodorant formulas use innov...</td>\n",
       "      <td>Great for those who are sensitive to perfumed ...</td>\n",
       "      <td>Verified Purchase</td>\n",
       "      <td>0</td>\n",
       "    </tr>\n",
       "    <tr>\n",
       "      <th>7</th>\n",
       "      <td>Works OK but stains clothes</td>\n",
       "      <td>2.0</td>\n",
       "      <td>February 26, 2020</td>\n",
       "      <td>Schmidt's Deodorant</td>\n",
       "      <td>Beauty &amp; Personal Care</td>\n",
       "      <td>Personal Care</td>\n",
       "      <td>Schmidt’s natural deodorant formulas use innov...</td>\n",
       "      <td>Well I stopped using it today. Gave it about 3...</td>\n",
       "      <td>Verified Purchase</td>\n",
       "      <td>0</td>\n",
       "    </tr>\n",
       "    <tr>\n",
       "      <th>8</th>\n",
       "      <td>My skin hated it</td>\n",
       "      <td>3.0</td>\n",
       "      <td>February 24, 2020</td>\n",
       "      <td>Schmidt's Deodorant</td>\n",
       "      <td>Beauty &amp; Personal Care</td>\n",
       "      <td>Personal Care</td>\n",
       "      <td>Schmidt’s natural deodorant formulas use innov...</td>\n",
       "      <td>I was excited to try this deodorant. I have be...</td>\n",
       "      <td>NO</td>\n",
       "      <td>0</td>\n",
       "    </tr>\n",
       "    <tr>\n",
       "      <th>9</th>\n",
       "      <td>My go to</td>\n",
       "      <td>5.0</td>\n",
       "      <td>February 24, 2020</td>\n",
       "      <td>Schmidt's Deodorant</td>\n",
       "      <td>Beauty &amp; Personal Care</td>\n",
       "      <td>Personal Care</td>\n",
       "      <td>Schmidt’s natural deodorant formulas use innov...</td>\n",
       "      <td>The only deodorant I’ll ever use anymore, no o...</td>\n",
       "      <td>Verified Purchase</td>\n",
       "      <td>0</td>\n",
       "    </tr>\n",
       "  </tbody>\n",
       "</table>\n",
       "</div>"
      ],
      "text/plain": [
       "                                        Review Title  Review Rating  \\\n",
       "0                           Best Natural Deodorant!!            5.0   \n",
       "1          Schmidt's Charcoal Deodorant is the best!            5.0   \n",
       "2                  Beware. Defective or counterfeit.            1.0   \n",
       "3  Good for infrequent shavers in cooler months i...            3.0   \n",
       "4  This isn’t the true product and will hurt your...            1.0   \n",
       "5                        A good choice for deodorant            5.0   \n",
       "6                                         Nice Smell            5.0   \n",
       "7                        Works OK but stains clothes            2.0   \n",
       "8                                   My skin hated it            3.0   \n",
       "9                                           My go to            5.0   \n",
       "\n",
       "         Review Date                Brand                Category  \\\n",
       "0      March 6, 2020  Schmidt's Deodorant  Beauty & Personal Care   \n",
       "1      March 6, 2020  Schmidt's Deodorant  Beauty & Personal Care   \n",
       "2      March 6, 2020  Schmidt's Deodorant  Beauty & Personal Care   \n",
       "3      March 5, 2020  Schmidt's Deodorant  Beauty & Personal Care   \n",
       "4      March 2, 2020  Schmidt's Deodorant  Beauty & Personal Care   \n",
       "5      March 1, 2020  Schmidt's Deodorant  Beauty & Personal Care   \n",
       "6  February 26, 2020  Schmidt's Deodorant  Beauty & Personal Care   \n",
       "7  February 26, 2020  Schmidt's Deodorant  Beauty & Personal Care   \n",
       "8  February 24, 2020  Schmidt's Deodorant  Beauty & Personal Care   \n",
       "9  February 24, 2020  Schmidt's Deodorant  Beauty & Personal Care   \n",
       "\n",
       "    Sub Category                                Product Description  \\\n",
       "0  Personal Care  Schmidt’s natural deodorant formulas use innov...   \n",
       "1  Personal Care  Schmidt’s natural deodorant formulas use innov...   \n",
       "2  Personal Care  Schmidt’s natural deodorant formulas use innov...   \n",
       "3  Personal Care  Schmidt’s natural deodorant formulas use innov...   \n",
       "4  Personal Care  Schmidt’s natural deodorant formulas use innov...   \n",
       "5  Personal Care  Schmidt’s natural deodorant formulas use innov...   \n",
       "6  Personal Care  Schmidt’s natural deodorant formulas use innov...   \n",
       "7  Personal Care  Schmidt’s natural deodorant formulas use innov...   \n",
       "8  Personal Care  Schmidt’s natural deodorant formulas use innov...   \n",
       "9  Personal Care  Schmidt’s natural deodorant formulas use innov...   \n",
       "\n",
       "                                      Review Content  Verified Purchase  \\\n",
       "0  This is the one natural deodorant that works f...  Verified Purchase   \n",
       "1  I am staying away from the conventional deodor...  Verified Purchase   \n",
       "2  Do not buy this from Amazon it's either defect...  Verified Purchase   \n",
       "3  I started using this because I was getting cys...                 NO   \n",
       "4  Dont buy this from amazon!!!! I never write re...  Verified Purchase   \n",
       "5                 Great natural deodorant! It works!  Verified Purchase   \n",
       "6  Great for those who are sensitive to perfumed ...  Verified Purchase   \n",
       "7  Well I stopped using it today. Gave it about 3...  Verified Purchase   \n",
       "8  I was excited to try this deodorant. I have be...                 NO   \n",
       "9  The only deodorant I’ll ever use anymore, no o...  Verified Purchase   \n",
       "\n",
       "  Helpful Review Count  \n",
       "0                    0  \n",
       "1                    0  \n",
       "2                    1  \n",
       "3                    0  \n",
       "4                    1  \n",
       "5                    0  \n",
       "6                    0  \n",
       "7                    0  \n",
       "8                    0  \n",
       "9                    0  "
      ]
     },
     "execution_count": 38,
     "metadata": {},
     "output_type": "execute_result"
    }
   ],
   "source": [
    "data.head(10)"
   ]
  },
  {
   "cell_type": "code",
   "execution_count": 39,
   "metadata": {
    "execution": {
     "iopub.execute_input": "2025-01-17T03:41:53.081013Z",
     "iopub.status.busy": "2025-01-17T03:41:53.080616Z",
     "iopub.status.idle": "2025-01-17T03:42:26.095759Z",
     "shell.execute_reply": "2025-01-17T03:42:26.094885Z",
     "shell.execute_reply.started": "2025-01-17T03:41:53.080963Z"
    },
    "trusted": true
   },
   "outputs": [
    {
     "name": "stderr",
     "output_type": "stream",
     "text": [
      "[nltk_data] Downloading package vader_lexicon to\n",
      "[nltk_data]     C:\\Users\\user\\AppData\\Roaming\\nltk_data...\n",
      "[nltk_data]   Package vader_lexicon is already up-to-date!\n"
     ]
    },
    {
     "data": {
      "text/plain": [
       "True"
      ]
     },
     "execution_count": 39,
     "metadata": {},
     "output_type": "execute_result"
    }
   ],
   "source": [
    "import pandas as pd\n",
    "import numpy as np\n",
    "import matplotlib.pyplot as plt\n",
    "import seaborn as sns\n",
    "import re\n",
    "from sklearn.model_selection import train_test_split\n",
    "from sklearn.feature_extraction.text import CountVectorizer, TfidfVectorizer\n",
    "from sklearn.linear_model import LogisticRegression\n",
    "from sklearn.metrics import classification_report, confusion_matrix, accuracy_score\n",
    "from nltk.sentiment.vader import SentimentIntensityAnalyzer\n",
    "import nltk\n",
    "nltk.download('vader_lexicon')\n"
   ]
  },
  {
   "cell_type": "code",
   "execution_count": null,
   "metadata": {},
   "outputs": [],
   "source": []
  },
  {
   "cell_type": "code",
   "execution_count": 40,
   "metadata": {},
   "outputs": [],
   "source": [
    "# pip install nltk"
   ]
  },
  {
   "cell_type": "code",
   "execution_count": 41,
   "metadata": {
    "execution": {
     "iopub.execute_input": "2025-01-17T03:42:26.097063Z",
     "iopub.status.busy": "2025-01-17T03:42:26.096809Z",
     "iopub.status.idle": "2025-01-17T03:42:26.103885Z",
     "shell.execute_reply": "2025-01-17T03:42:26.102806Z",
     "shell.execute_reply.started": "2025-01-17T03:42:26.097041Z"
    },
    "trusted": true
   },
   "outputs": [
    {
     "data": {
      "text/plain": [
       "Index(['Review Title', 'Review Rating', 'Review Date', 'Brand', 'Category',\n",
       "       'Sub Category', 'Product Description', 'Review Content',\n",
       "       'Verified Purchase', 'Helpful Review Count'],\n",
       "      dtype='object')"
      ]
     },
     "execution_count": 41,
     "metadata": {},
     "output_type": "execute_result"
    }
   ],
   "source": [
    "df=data.copy()\n",
    "df.columns"
   ]
  },
  {
   "cell_type": "code",
   "execution_count": 42,
   "metadata": {
    "execution": {
     "iopub.execute_input": "2025-01-17T03:42:26.110748Z",
     "iopub.status.busy": "2025-01-17T03:42:26.110440Z",
     "iopub.status.idle": "2025-01-17T03:42:26.146104Z",
     "shell.execute_reply": "2025-01-17T03:42:26.144904Z",
     "shell.execute_reply.started": "2025-01-17T03:42:26.110725Z"
    },
    "trusted": true
   },
   "outputs": [],
   "source": [
    "df=df[['Review Content','Review Rating']]"
   ]
  },
  {
   "cell_type": "code",
   "execution_count": 43,
   "metadata": {
    "execution": {
     "iopub.execute_input": "2025-01-17T03:42:26.148628Z",
     "iopub.status.busy": "2025-01-17T03:42:26.148365Z",
     "iopub.status.idle": "2025-01-17T03:42:26.168434Z",
     "shell.execute_reply": "2025-01-17T03:42:26.166960Z",
     "shell.execute_reply.started": "2025-01-17T03:42:26.148608Z"
    },
    "trusted": true
   },
   "outputs": [],
   "source": [
    "def label_sentiment(rating):\n",
    "    if rating >= 4:\n",
    "        return 'Positive'\n",
    "    elif rating == 3:\n",
    "        return 'Neutral'\n",
    "    else:\n",
    "        return 'Negative'\n",
    "\n",
    "df['Sentiment'] = df['Review Rating'].apply(label_sentiment)\n"
   ]
  },
  {
   "cell_type": "code",
   "execution_count": 44,
   "metadata": {
    "execution": {
     "iopub.execute_input": "2025-01-17T03:42:26.170104Z",
     "iopub.status.busy": "2025-01-17T03:42:26.169725Z",
     "iopub.status.idle": "2025-01-17T03:42:26.193832Z",
     "shell.execute_reply": "2025-01-17T03:42:26.192846Z",
     "shell.execute_reply.started": "2025-01-17T03:42:26.170065Z"
    },
    "trusted": true
   },
   "outputs": [
    {
     "data": {
      "text/html": [
       "<div>\n",
       "<style scoped>\n",
       "    .dataframe tbody tr th:only-of-type {\n",
       "        vertical-align: middle;\n",
       "    }\n",
       "\n",
       "    .dataframe tbody tr th {\n",
       "        vertical-align: top;\n",
       "    }\n",
       "\n",
       "    .dataframe thead th {\n",
       "        text-align: right;\n",
       "    }\n",
       "</style>\n",
       "<table border=\"1\" class=\"dataframe\">\n",
       "  <thead>\n",
       "    <tr style=\"text-align: right;\">\n",
       "      <th></th>\n",
       "      <th>Review Content</th>\n",
       "      <th>Review Rating</th>\n",
       "      <th>Sentiment</th>\n",
       "    </tr>\n",
       "  </thead>\n",
       "  <tbody>\n",
       "    <tr>\n",
       "      <th>0</th>\n",
       "      <td>This is the one natural deodorant that works f...</td>\n",
       "      <td>5.0</td>\n",
       "      <td>Positive</td>\n",
       "    </tr>\n",
       "    <tr>\n",
       "      <th>1</th>\n",
       "      <td>I am staying away from the conventional deodor...</td>\n",
       "      <td>5.0</td>\n",
       "      <td>Positive</td>\n",
       "    </tr>\n",
       "    <tr>\n",
       "      <th>2</th>\n",
       "      <td>Do not buy this from Amazon it's either defect...</td>\n",
       "      <td>1.0</td>\n",
       "      <td>Negative</td>\n",
       "    </tr>\n",
       "    <tr>\n",
       "      <th>3</th>\n",
       "      <td>I started using this because I was getting cys...</td>\n",
       "      <td>3.0</td>\n",
       "      <td>Neutral</td>\n",
       "    </tr>\n",
       "    <tr>\n",
       "      <th>4</th>\n",
       "      <td>Dont buy this from amazon!!!! I never write re...</td>\n",
       "      <td>1.0</td>\n",
       "      <td>Negative</td>\n",
       "    </tr>\n",
       "  </tbody>\n",
       "</table>\n",
       "</div>"
      ],
      "text/plain": [
       "                                      Review Content  Review Rating Sentiment\n",
       "0  This is the one natural deodorant that works f...            5.0  Positive\n",
       "1  I am staying away from the conventional deodor...            5.0  Positive\n",
       "2  Do not buy this from Amazon it's either defect...            1.0  Negative\n",
       "3  I started using this because I was getting cys...            3.0   Neutral\n",
       "4  Dont buy this from amazon!!!! I never write re...            1.0  Negative"
      ]
     },
     "execution_count": 44,
     "metadata": {},
     "output_type": "execute_result"
    }
   ],
   "source": [
    "df.head()"
   ]
  },
  {
   "cell_type": "code",
   "execution_count": 45,
   "metadata": {
    "execution": {
     "iopub.execute_input": "2025-01-17T03:42:26.195116Z",
     "iopub.status.busy": "2025-01-17T03:42:26.194793Z",
     "iopub.status.idle": "2025-01-17T03:42:26.380827Z",
     "shell.execute_reply": "2025-01-17T03:42:26.379909Z",
     "shell.execute_reply.started": "2025-01-17T03:42:26.195090Z"
    },
    "trusted": true
   },
   "outputs": [
    {
     "data": {
      "text/plain": [
       "<Axes: xlabel='Sentiment', ylabel='count'>"
      ]
     },
     "execution_count": 45,
     "metadata": {},
     "output_type": "execute_result"
    },
    {
     "data": {
      "image/png": "[encoded data removed]",
      "text/plain": [
       "<Figure size 640x480 with 1 Axes>"
      ]
     },
     "metadata": {},
     "output_type": "display_data"
    }
   ],
   "source": [
    "sns.countplot(x='Sentiment',data=df)"
   ]
  },
  {
   "cell_type": "code",
   "execution_count": null,
   "metadata": {
    "trusted": true
   },
   "outputs": [],
   "source": []
  },
  {
   "cell_type": "code",
   "execution_count": 46,
   "metadata": {
    "execution": {
     "iopub.execute_input": "2025-01-17T03:42:26.382023Z",
     "iopub.status.busy": "2025-01-17T03:42:26.381739Z",
     "iopub.status.idle": "2025-01-17T03:42:26.388200Z",
     "shell.execute_reply": "2025-01-17T03:42:26.387264Z",
     "shell.execute_reply.started": "2025-01-17T03:42:26.382000Z"
    },
    "trusted": true
   },
   "outputs": [
    {
     "name": "stderr",
     "output_type": "stream",
     "text": [
      "<>:9: SyntaxWarning: invalid escape sequence '\\w'\n",
      "<>:9: SyntaxWarning: invalid escape sequence '\\w'\n",
      "C:\\Users\\user\\AppData\\Local\\Temp\\ipykernel_5784\\427089378.py:9: SyntaxWarning: invalid escape sequence '\\w'\n",
      "  text = re.sub('\\w*\\d\\w*', '', text)\n"
     ]
    }
   ],
   "source": [
    "def clean(text):\n",
    "    text=str(text).lower()\n",
    "    text = re.sub('<.*?>+', '', text)\n",
    "    #  Removing Punctuation\n",
    "    text = re.sub(r'[^\\w\\s]', '', text)\n",
    "    # Replace newline characters with spaces\n",
    "    text = re.sub('\\n', '', text)\n",
    "    # Remove words containing digits\n",
    "    text = re.sub('\\w*\\d\\w*', '', text)\n",
    "     # Tokenize the text and remove stopwords\n",
    "    text = [word for word in text.split(' ') if word not in stopwords]\n",
    "    text=\" \".join(text)\n",
    "    # Stem the remaining words\n",
    "    text = [stemmer.stem(word) for word in text.split(' ')]\n",
    "    # Join the cleaned and stemmed words back into a string\n",
    "    text=\" \".join(text)\n",
    "    return text"
   ]
  },
  {
   "cell_type": "code",
   "execution_count": 47,
   "metadata": {
    "execution": {
     "iopub.execute_input": "2025-01-17T03:42:26.389636Z",
     "iopub.status.busy": "2025-01-17T03:42:26.389242Z",
     "iopub.status.idle": "2025-01-17T03:42:26.411339Z",
     "shell.execute_reply": "2025-01-17T03:42:26.410224Z",
     "shell.execute_reply.started": "2025-01-17T03:42:26.389601Z"
    },
    "trusted": true
   },
   "outputs": [],
   "source": [
    "from nltk.corpus import stopwords \n",
    "stopwords=set(stopwords.words('english'))"
   ]
  },
  {
   "cell_type": "code",
   "execution_count": 48,
   "metadata": {
    "execution": {
     "iopub.execute_input": "2025-01-17T03:42:26.412629Z",
     "iopub.status.busy": "2025-01-17T03:42:26.412329Z",
     "iopub.status.idle": "2025-01-17T03:42:26.419485Z",
     "shell.execute_reply": "2025-01-17T03:42:26.418302Z",
     "shell.execute_reply.started": "2025-01-17T03:42:26.412575Z"
    },
    "trusted": true
   },
   "outputs": [],
   "source": [
    "stemmer = nltk.SnowballStemmer(\"english\")"
   ]
  },
  {
   "cell_type": "code",
   "execution_count": 49,
   "metadata": {
    "execution": {
     "iopub.execute_input": "2025-01-17T03:42:26.420739Z",
     "iopub.status.busy": "2025-01-17T03:42:26.420434Z",
     "iopub.status.idle": "2025-01-17T03:42:26.461054Z",
     "shell.execute_reply": "2025-01-17T03:42:26.460005Z",
     "shell.execute_reply.started": "2025-01-17T03:42:26.420697Z"
    },
    "trusted": true
   },
   "outputs": [
    {
     "data": {
      "text/html": [
       "<div>\n",
       "<style scoped>\n",
       "    .dataframe tbody tr th:only-of-type {\n",
       "        vertical-align: middle;\n",
       "    }\n",
       "\n",
       "    .dataframe tbody tr th {\n",
       "        vertical-align: top;\n",
       "    }\n",
       "\n",
       "    .dataframe thead th {\n",
       "        text-align: right;\n",
       "    }\n",
       "</style>\n",
       "<table border=\"1\" class=\"dataframe\">\n",
       "  <thead>\n",
       "    <tr style=\"text-align: right;\">\n",
       "      <th></th>\n",
       "      <th>Review Content</th>\n",
       "      <th>Sentiment</th>\n",
       "    </tr>\n",
       "  </thead>\n",
       "  <tbody>\n",
       "    <tr>\n",
       "      <th>0</th>\n",
       "      <td>one natur deodor work bo smell throughout day ...</td>\n",
       "      <td>Positive</td>\n",
       "    </tr>\n",
       "    <tr>\n",
       "      <th>1</th>\n",
       "      <td>stay away convent deodor lot fragranc combin a...</td>\n",
       "      <td>Positive</td>\n",
       "    </tr>\n",
       "    <tr>\n",
       "      <th>2</th>\n",
       "      <td>buy amazon either defect counterfeit use buy p...</td>\n",
       "      <td>Negative</td>\n",
       "    </tr>\n",
       "    <tr>\n",
       "      <th>3</th>\n",
       "      <td>start use get cyst aluminum antiperspir studi ...</td>\n",
       "      <td>Neutral</td>\n",
       "    </tr>\n",
       "    <tr>\n",
       "      <th>4</th>\n",
       "      <td>dont buy amazon never write review felt other ...</td>\n",
       "      <td>Negative</td>\n",
       "    </tr>\n",
       "    <tr>\n",
       "      <th>5</th>\n",
       "      <td>great natur deodor work</td>\n",
       "      <td>Positive</td>\n",
       "    </tr>\n",
       "    <tr>\n",
       "      <th>6</th>\n",
       "      <td>great sensit perfum deorder nice smell  work g...</td>\n",
       "      <td>Positive</td>\n",
       "    </tr>\n",
       "    <tr>\n",
       "      <th>7</th>\n",
       "      <td>well stop use today gave  week honest wasnt ba...</td>\n",
       "      <td>Negative</td>\n",
       "    </tr>\n",
       "    <tr>\n",
       "      <th>8</th>\n",
       "      <td>excit tri deodor want find good nonaluminum de...</td>\n",
       "      <td>Neutral</td>\n",
       "    </tr>\n",
       "    <tr>\n",
       "      <th>9</th>\n",
       "      <td>deodor ill ever use anymor similar brand compa...</td>\n",
       "      <td>Positive</td>\n",
       "    </tr>\n",
       "    <tr>\n",
       "      <th>10</th>\n",
       "      <td>excel mustard high recommend</td>\n",
       "      <td>Positive</td>\n",
       "    </tr>\n",
       "    <tr>\n",
       "      <th>11</th>\n",
       "      <td>tast great</td>\n",
       "      <td>Positive</td>\n",
       "    </tr>\n",
       "    <tr>\n",
       "      <th>12</th>\n",
       "      <td>fantast delici use everyth sinc couldnt get en...</td>\n",
       "      <td>Positive</td>\n",
       "    </tr>\n",
       "    <tr>\n",
       "      <th>13</th>\n",
       "      <td>first bit pricier usual store bought couldnt r...</td>\n",
       "      <td>Positive</td>\n",
       "    </tr>\n",
       "    <tr>\n",
       "      <th>14</th>\n",
       "      <td>use product sever month work worri aluminum pa...</td>\n",
       "      <td>Positive</td>\n",
       "    </tr>\n",
       "    <tr>\n",
       "      <th>15</th>\n",
       "      <td>get rash almost deodor get one use product</td>\n",
       "      <td>Positive</td>\n",
       "    </tr>\n",
       "    <tr>\n",
       "      <th>16</th>\n",
       "      <td>sinc antiperspir armpit still got sweati smell...</td>\n",
       "      <td>Positive</td>\n",
       "    </tr>\n",
       "    <tr>\n",
       "      <th>17</th>\n",
       "      <td>strong scenti threw away thought sinc suppos s...</td>\n",
       "      <td>Negative</td>\n",
       "    </tr>\n",
       "    <tr>\n",
       "      <th>18</th>\n",
       "      <td>sure bieber approv smell cheap soap</td>\n",
       "      <td>Negative</td>\n",
       "    </tr>\n",
       "    <tr>\n",
       "      <th>19</th>\n",
       "      <td>love stuff tri mani differ product tom main wo...</td>\n",
       "      <td>Positive</td>\n",
       "    </tr>\n",
       "    <tr>\n",
       "      <th>20</th>\n",
       "      <td>ok best natur deodor ive tri far probabl wont ...</td>\n",
       "      <td>Positive</td>\n",
       "    </tr>\n",
       "    <tr>\n",
       "      <th>21</th>\n",
       "      <td>interest smell start sort citrus fennel scent ...</td>\n",
       "      <td>Positive</td>\n",
       "    </tr>\n",
       "    <tr>\n",
       "      <th>22</th>\n",
       "      <td>husband enjoy smell coverag</td>\n",
       "      <td>Positive</td>\n",
       "    </tr>\n",
       "    <tr>\n",
       "      <th>23</th>\n",
       "      <td>quest good deodor past year bake soda allergi ...</td>\n",
       "      <td>Positive</td>\n",
       "    </tr>\n",
       "    <tr>\n",
       "      <th>24</th>\n",
       "      <td>stop use two day smell bad honest make smell l...</td>\n",
       "      <td>Negative</td>\n",
       "    </tr>\n",
       "    <tr>\n",
       "      <th>25</th>\n",
       "      <td>love scent feel everi shower</td>\n",
       "      <td>Positive</td>\n",
       "    </tr>\n",
       "    <tr>\n",
       "      <th>26</th>\n",
       "      <td>smell size lather perfect</td>\n",
       "      <td>Positive</td>\n",
       "    </tr>\n",
       "    <tr>\n",
       "      <th>27</th>\n",
       "      <td>love eveyth soap scan think dirti app  awesom</td>\n",
       "      <td>Positive</td>\n",
       "    </tr>\n",
       "    <tr>\n",
       "      <th>28</th>\n",
       "      <td>like scent use keep skin healthi</td>\n",
       "      <td>Positive</td>\n",
       "    </tr>\n",
       "    <tr>\n",
       "      <th>29</th>\n",
       "      <td>soft</td>\n",
       "      <td>Positive</td>\n",
       "    </tr>\n",
       "    <tr>\n",
       "      <th>30</th>\n",
       "      <td>use soap sensit skin moistur smell great</td>\n",
       "      <td>Positive</td>\n",
       "    </tr>\n",
       "    <tr>\n",
       "      <th>31</th>\n",
       "      <td>dri skin lot</td>\n",
       "      <td>Negative</td>\n",
       "    </tr>\n",
       "    <tr>\n",
       "      <th>32</th>\n",
       "      <td>bought soap daughter daughter law christma lov...</td>\n",
       "      <td>Positive</td>\n",
       "    </tr>\n",
       "    <tr>\n",
       "      <th>33</th>\n",
       "      <td>thing dislik seed howev cleans scent moistur like</td>\n",
       "      <td>Positive</td>\n",
       "    </tr>\n",
       "    <tr>\n",
       "      <th>34</th>\n",
       "      <td>realli like soap far use week great scent mois...</td>\n",
       "      <td>Positive</td>\n",
       "    </tr>\n",
       "    <tr>\n",
       "      <th>35</th>\n",
       "      <td>good kurig option high recommend use  strong o...</td>\n",
       "      <td>Positive</td>\n",
       "    </tr>\n",
       "    <tr>\n",
       "      <th>36</th>\n",
       "      <td>imposs open would nice tri</td>\n",
       "      <td>Negative</td>\n",
       "    </tr>\n",
       "    <tr>\n",
       "      <th>37</th>\n",
       "      <td>layer delish far one best brand flavor</td>\n",
       "      <td>Positive</td>\n",
       "    </tr>\n",
       "    <tr>\n",
       "      <th>38</th>\n",
       "      <td>yummi love talenti</td>\n",
       "      <td>Positive</td>\n",
       "    </tr>\n",
       "    <tr>\n",
       "      <th>39</th>\n",
       "      <td>delici buy everi month good ill eat</td>\n",
       "      <td>Positive</td>\n",
       "    </tr>\n",
       "    <tr>\n",
       "      <th>40</th>\n",
       "      <td>fabul fabul fabul cant get enough</td>\n",
       "      <td>Positive</td>\n",
       "    </tr>\n",
       "    <tr>\n",
       "      <th>41</th>\n",
       "      <td>one thing ive learn tri  differ flavor talenti...</td>\n",
       "      <td>Neutral</td>\n",
       "    </tr>\n",
       "    <tr>\n",
       "      <th>42</th>\n",
       "      <td>best combin chocol  carmel salti  sweet truli ...</td>\n",
       "      <td>Positive</td>\n",
       "    </tr>\n",
       "    <tr>\n",
       "      <th>43</th>\n",
       "      <td>love</td>\n",
       "      <td>Positive</td>\n",
       "    </tr>\n",
       "    <tr>\n",
       "      <th>44</th>\n",
       "      <td>sooo good best idea ever chocol cruchi caramel...</td>\n",
       "      <td>Positive</td>\n",
       "    </tr>\n",
       "    <tr>\n",
       "      <th>45</th>\n",
       "      <td>sheamoistur lavend wild orchid oil make skin f...</td>\n",
       "      <td>Positive</td>\n",
       "    </tr>\n",
       "    <tr>\n",
       "      <th>46</th>\n",
       "      <td>love product</td>\n",
       "      <td>Positive</td>\n",
       "    </tr>\n",
       "    <tr>\n",
       "      <th>47</th>\n",
       "      <td>love oil use shower towel leav skin silki scen...</td>\n",
       "      <td>Positive</td>\n",
       "    </tr>\n",
       "    <tr>\n",
       "      <th>48</th>\n",
       "      <td>offici favorit brand oil realli dri skin would...</td>\n",
       "      <td>Positive</td>\n",
       "    </tr>\n",
       "    <tr>\n",
       "      <th>49</th>\n",
       "      <td>absolut love bodi oil combin oil scent use per...</td>\n",
       "      <td>Positive</td>\n",
       "    </tr>\n",
       "  </tbody>\n",
       "</table>\n",
       "</div>"
      ],
      "text/plain": [
       "                                       Review Content Sentiment\n",
       "0   one natur deodor work bo smell throughout day ...  Positive\n",
       "1   stay away convent deodor lot fragranc combin a...  Positive\n",
       "2   buy amazon either defect counterfeit use buy p...  Negative\n",
       "3   start use get cyst aluminum antiperspir studi ...   Neutral\n",
       "4   dont buy amazon never write review felt other ...  Negative\n",
       "5                             great natur deodor work  Positive\n",
       "6   great sensit perfum deorder nice smell  work g...  Positive\n",
       "7   well stop use today gave  week honest wasnt ba...  Negative\n",
       "8   excit tri deodor want find good nonaluminum de...   Neutral\n",
       "9   deodor ill ever use anymor similar brand compa...  Positive\n",
       "10                       excel mustard high recommend  Positive\n",
       "11                                         tast great  Positive\n",
       "12  fantast delici use everyth sinc couldnt get en...  Positive\n",
       "13  first bit pricier usual store bought couldnt r...  Positive\n",
       "14  use product sever month work worri aluminum pa...  Positive\n",
       "15         get rash almost deodor get one use product  Positive\n",
       "16  sinc antiperspir armpit still got sweati smell...  Positive\n",
       "17  strong scenti threw away thought sinc suppos s...  Negative\n",
       "18                sure bieber approv smell cheap soap  Negative\n",
       "19  love stuff tri mani differ product tom main wo...  Positive\n",
       "20  ok best natur deodor ive tri far probabl wont ...  Positive\n",
       "21  interest smell start sort citrus fennel scent ...  Positive\n",
       "22                        husband enjoy smell coverag  Positive\n",
       "23  quest good deodor past year bake soda allergi ...  Positive\n",
       "24  stop use two day smell bad honest make smell l...  Negative\n",
       "25                       love scent feel everi shower  Positive\n",
       "26                          smell size lather perfect  Positive\n",
       "27      love eveyth soap scan think dirti app  awesom  Positive\n",
       "28                   like scent use keep skin healthi  Positive\n",
       "29                                               soft  Positive\n",
       "30           use soap sensit skin moistur smell great  Positive\n",
       "31                                       dri skin lot  Negative\n",
       "32  bought soap daughter daughter law christma lov...  Positive\n",
       "33  thing dislik seed howev cleans scent moistur like  Positive\n",
       "34  realli like soap far use week great scent mois...  Positive\n",
       "35  good kurig option high recommend use  strong o...  Positive\n",
       "36                         imposs open would nice tri  Negative\n",
       "37             layer delish far one best brand flavor  Positive\n",
       "38                                 yummi love talenti  Positive\n",
       "39                delici buy everi month good ill eat  Positive\n",
       "40                  fabul fabul fabul cant get enough  Positive\n",
       "41  one thing ive learn tri  differ flavor talenti...   Neutral\n",
       "42  best combin chocol  carmel salti  sweet truli ...  Positive\n",
       "43                                               love  Positive\n",
       "44  sooo good best idea ever chocol cruchi caramel...  Positive\n",
       "45  sheamoistur lavend wild orchid oil make skin f...  Positive\n",
       "46                                       love product  Positive\n",
       "47  love oil use shower towel leav skin silki scen...  Positive\n",
       "48  offici favorit brand oil realli dri skin would...  Positive\n",
       "49  absolut love bodi oil combin oil scent use per...  Positive"
      ]
     },
     "execution_count": 49,
     "metadata": {},
     "output_type": "execute_result"
    }
   ],
   "source": [
    "data_cleaned=pd.DataFrame()\n",
    "data_cleaned['Review Content']=df[\"Review Content\"].apply(clean)\n",
    "data_cleaned['Sentiment']=df['Sentiment']\n",
    "data_cleaned"
   ]
  },
  {
   "cell_type": "code",
   "execution_count": 50,
   "metadata": {
    "execution": {
     "iopub.execute_input": "2025-01-17T03:42:26.462096Z",
     "iopub.status.busy": "2025-01-17T03:42:26.461770Z",
     "iopub.status.idle": "2025-01-17T03:42:27.622828Z",
     "shell.execute_reply": "2025-01-17T03:42:27.621623Z",
     "shell.execute_reply.started": "2025-01-17T03:42:26.462065Z"
    },
    "trusted": true
   },
   "outputs": [
    {
     "data": {
      "image/png": "[encoded data removed]",
      "text/plain": [
       "<Figure size 640x480 with 1 Axes>"
      ]
     },
     "metadata": {},
     "output_type": "display_data"
    }
   ],
   "source": [
    "from wordcloud import WordCloud\n",
    "\n",
    "# Generate a word cloud for positive reviews\n",
    "positive_reviews = ' '.join(data_cleaned[data_cleaned['Sentiment'] == 'Positive']['Review Content'])\n",
    "wordcloud = WordCloud(width=800, height=400).generate(positive_reviews)\n",
    "\n",
    "plt.imshow(wordcloud, interpolation='bilinear')\n",
    "plt.axis('off')\n",
    "plt.title('Word Cloud - Positive Reviews')\n",
    "plt.show()\n"
   ]
  },
  {
   "cell_type": "code",
   "execution_count": 51,
   "metadata": {},
   "outputs": [],
   "source": [
    "# !pip install imbalanced-learn\n",
    "\n",
    "\n"
   ]
  },
  {
   "cell_type": "code",
   "execution_count": 52,
   "metadata": {
    "execution": {
     "iopub.execute_input": "2025-01-17T03:42:27.624368Z",
     "iopub.status.busy": "2025-01-17T03:42:27.623875Z",
     "iopub.status.idle": "2025-01-17T03:42:27.645836Z",
     "shell.execute_reply": "2025-01-17T03:42:27.644891Z",
     "shell.execute_reply.started": "2025-01-17T03:42:27.624329Z"
    },
    "trusted": true
   },
   "outputs": [],
   "source": [
    "vectorizer = TfidfVectorizer(max_features=430)\n",
    "X = vectorizer.fit_transform(data_cleaned['Review Content']).toarray()\n",
    "y = data_cleaned['Sentiment']"
   ]
  },
  {
   "cell_type": "code",
   "execution_count": null,
   "metadata": {},
   "outputs": [],
   "source": []
  },
  {
   "cell_type": "code",
   "execution_count": 54,
   "metadata": {
    "execution": {
     "iopub.execute_input": "2025-01-17T03:42:27.647186Z",
     "iopub.status.busy": "2025-01-17T03:42:27.646847Z",
     "iopub.status.idle": "2025-01-17T03:42:28.281522Z",
     "shell.execute_reply": "2025-01-17T03:42:28.280688Z",
     "shell.execute_reply.started": "2025-01-17T03:42:27.647158Z"
    },
    "trusted": true
   },
   "outputs": [],
   "source": [
    "from imblearn.over_sampling import SMOTE\n",
    "smote = SMOTE(random_state=42,k_neighbors=2,sampling_strategy='auto')\n",
    "X_balanced, y_balanced = smote.fit_resample(X, y)"
   ]
  },
  {
   "cell_type": "code",
   "execution_count": 71,
   "metadata": {},
   "outputs": [],
   "source": [
    "# !pip install imbalanced-learn\n"
   ]
  },
  {
   "cell_type": "code",
   "execution_count": null,
   "metadata": {},
   "outputs": [],
   "source": [
    "\n"
   ]
  },
  {
   "cell_type": "code",
   "execution_count": 55,
   "metadata": {
    "execution": {
     "iopub.execute_input": "2025-01-17T03:42:28.282587Z",
     "iopub.status.busy": "2025-01-17T03:42:28.282133Z",
     "iopub.status.idle": "2025-01-17T03:42:28.291871Z",
     "shell.execute_reply": "2025-01-17T03:42:28.289048Z",
     "shell.execute_reply.started": "2025-01-17T03:42:28.282561Z"
    },
    "trusted": true
   },
   "outputs": [
    {
     "data": {
      "text/plain": [
       "Sentiment\n",
       "Positive    39\n",
       "Negative    39\n",
       "Neutral     39\n",
       "Name: count, dtype: int64"
      ]
     },
     "execution_count": 55,
     "metadata": {},
     "output_type": "execute_result"
    }
   ],
   "source": [
    "y_balanced.value_counts()"
   ]
  },
  {
   "cell_type": "code",
   "execution_count": 56,
   "metadata": {
    "execution": {
     "iopub.execute_input": "2025-01-17T03:42:28.292950Z",
     "iopub.status.busy": "2025-01-17T03:42:28.292654Z",
     "iopub.status.idle": "2025-01-17T03:42:28.313247Z",
     "shell.execute_reply": "2025-01-17T03:42:28.311954Z",
     "shell.execute_reply.started": "2025-01-17T03:42:28.292926Z"
    },
    "trusted": true
   },
   "outputs": [],
   "source": [
    "X_train, X_test, y_train, y_test = train_test_split(X_balanced, y_balanced, test_size=0.2, random_state=42)\n"
   ]
  },
  {
   "cell_type": "code",
   "execution_count": 57,
   "metadata": {
    "execution": {
     "iopub.execute_input": "2025-01-17T03:42:28.314634Z",
     "iopub.status.busy": "2025-01-17T03:42:28.314329Z",
     "iopub.status.idle": "2025-01-17T03:42:28.356691Z",
     "shell.execute_reply": "2025-01-17T03:42:28.355422Z",
     "shell.execute_reply.started": "2025-01-17T03:42:28.314607Z"
    },
    "trusted": true
   },
   "outputs": [
    {
     "data": {
      "text/html": [
       "<style>#sk-container-id-1 {\n",
       "  /* Definition of color scheme common for light and dark mode */\n",
       "  --sklearn-color-text: #000;\n",
       "  --sklearn-color-text-muted: #666;\n",
       "  --sklearn-color-line: gray;\n",
       "  /* Definition of color scheme for unfitted estimators */\n",
       "  --sklearn-color-unfitted-level-0: #fff5e6;\n",
       "  --sklearn-color-unfitted-level-1: #f6e4d2;\n",
       "  --sklearn-color-unfitted-level-2: #ffe0b3;\n",
       "  --sklearn-color-unfitted-level-3: chocolate;\n",
       "  /* Definition of color scheme for fitted estimators */\n",
       "  --sklearn-color-fitted-level-0: #f0f8ff;\n",
       "  --sklearn-color-fitted-level-1: #d4ebff;\n",
       "  --sklearn-color-fitted-level-2: #b3dbfd;\n",
       "  --sklearn-color-fitted-level-3: cornflowerblue;\n",
       "\n",
       "  /* Specific color for light theme */\n",
       "  --sklearn-color-text-on-default-background: var(--sg-text-color, var(--theme-code-foreground, var(--jp-content-font-color1, black)));\n",
       "  --sklearn-color-background: var(--sg-background-color, var(--theme-background, var(--jp-layout-color0, white)));\n",
       "  --sklearn-color-border-box: var(--sg-text-color, var(--theme-code-foreground, var(--jp-content-font-color1, black)));\n",
       "  --sklearn-color-icon: #696969;\n",
       "\n",
       "  @media (prefers-color-scheme: dark) {\n",
       "    /* Redefinition of color scheme for dark theme */\n",
       "    --sklearn-color-text-on-default-background: var(--sg-text-color, var(--theme-code-foreground, var(--jp-content-font-color1, white)));\n",
       "    --sklearn-color-background: var(--sg-background-color, var(--theme-background, var(--jp-layout-color0, #111)));\n",
       "    --sklearn-color-border-box: var(--sg-text-color, var(--theme-code-foreground, var(--jp-content-font-color1, white)));\n",
       "    --sklearn-color-icon: #878787;\n",
       "  }\n",
       "}\n",
       "\n",
       "#sk-container-id-1 {\n",
       "  color: var(--sklearn-color-text);\n",
       "}\n",
       "\n",
       "#sk-container-id-1 pre {\n",
       "  padding: 0;\n",
       "}\n",
       "\n",
       "#sk-container-id-1 input.sk-hidden--visually {\n",
       "  border: 0;\n",
       "  clip: rect(1px 1px 1px 1px);\n",
       "  clip: rect(1px, 1px, 1px, 1px);\n",
       "  height: 1px;\n",
       "  margin: -1px;\n",
       "  overflow: hidden;\n",
       "  padding: 0;\n",
       "  position: absolute;\n",
       "  width: 1px;\n",
       "}\n",
       "\n",
       "#sk-container-id-1 div.sk-dashed-wrapped {\n",
       "  border: 1px dashed var(--sklearn-color-line);\n",
       "  margin: 0 0.4em 0.5em 0.4em;\n",
       "  box-sizing: border-box;\n",
       "  padding-bottom: 0.4em;\n",
       "  background-color: var(--sklearn-color-background);\n",
       "}\n",
       "\n",
       "#sk-container-id-1 div.sk-container {\n",
       "  /* jupyter's `normalize.less` sets `[hidden] { display: none; }`\n",
       "     but bootstrap.min.css set `[hidden] { display: none !important; }`\n",
       "     so we also need the `!important` here to be able to override the\n",
       "     default hidden behavior on the sphinx rendered scikit-learn.org.\n",
       "     See: https://github.com/scikit-learn/scikit-learn/issues/21755 */\n",
       "  display: inline-block !important;\n",
       "  position: relative;\n",
       "}\n",
       "\n",
       "#sk-container-id-1 div.sk-text-repr-fallback {\n",
       "  display: none;\n",
       "}\n",
       "\n",
       "div.sk-parallel-item,\n",
       "div.sk-serial,\n",
       "div.sk-item {\n",
       "  /* draw centered vertical line to link estimators */\n",
       "  background-image: linear-gradient(var(--sklearn-color-text-on-default-background), var(--sklearn-color-text-on-default-background));\n",
       "  background-size: 2px 100%;\n",
       "  background-repeat: no-repeat;\n",
       "  background-position: center center;\n",
       "}\n",
       "\n",
       "/* Parallel-specific style estimator block */\n",
       "\n",
       "#sk-container-id-1 div.sk-parallel-item::after {\n",
       "  content: \"\";\n",
       "  width: 100%;\n",
       "  border-bottom: 2px solid var(--sklearn-color-text-on-default-background);\n",
       "  flex-grow: 1;\n",
       "}\n",
       "\n",
       "#sk-container-id-1 div.sk-parallel {\n",
       "  display: flex;\n",
       "  align-items: stretch;\n",
       "  justify-content: center;\n",
       "  background-color: var(--sklearn-color-background);\n",
       "  position: relative;\n",
       "}\n",
       "\n",
       "#sk-container-id-1 div.sk-parallel-item {\n",
       "  display: flex;\n",
       "  flex-direction: column;\n",
       "}\n",
       "\n",
       "#sk-container-id-1 div.sk-parallel-item:first-child::after {\n",
       "  align-self: flex-end;\n",
       "  width: 50%;\n",
       "}\n",
       "\n",
       "#sk-container-id-1 div.sk-parallel-item:last-child::after {\n",
       "  align-self: flex-start;\n",
       "  width: 50%;\n",
       "}\n",
       "\n",
       "#sk-container-id-1 div.sk-parallel-item:only-child::after {\n",
       "  width: 0;\n",
       "}\n",
       "\n",
       "/* Serial-specific style estimator block */\n",
       "\n",
       "#sk-container-id-1 div.sk-serial {\n",
       "  display: flex;\n",
       "  flex-direction: column;\n",
       "  align-items: center;\n",
       "  background-color: var(--sklearn-color-background);\n",
       "  padding-right: 1em;\n",
       "  padding-left: 1em;\n",
       "}\n",
       "\n",
       "\n",
       "/* Toggleable style: style used for estimator/Pipeline/ColumnTransformer box that is\n",
       "clickable and can be expanded/collapsed.\n",
       "- Pipeline and ColumnTransformer use this feature and define the default style\n",
       "- Estimators will overwrite some part of the style using the `sk-estimator` class\n",
       "*/\n",
       "\n",
       "/* Pipeline and ColumnTransformer style (default) */\n",
       "\n",
       "#sk-container-id-1 div.sk-toggleable {\n",
       "  /* Default theme specific background. It is overwritten whether we have a\n",
       "  specific estimator or a Pipeline/ColumnTransformer */\n",
       "  background-color: var(--sklearn-color-background);\n",
       "}\n",
       "\n",
       "/* Toggleable label */\n",
       "#sk-container-id-1 label.sk-toggleable__label {\n",
       "  cursor: pointer;\n",
       "  display: flex;\n",
       "  width: 100%;\n",
       "  margin-bottom: 0;\n",
       "  padding: 0.5em;\n",
       "  box-sizing: border-box;\n",
       "  text-align: center;\n",
       "  align-items: start;\n",
       "  justify-content: space-between;\n",
       "  gap: 0.5em;\n",
       "}\n",
       "\n",
       "#sk-container-id-1 label.sk-toggleable__label .caption {\n",
       "  font-size: 0.6rem;\n",
       "  font-weight: lighter;\n",
       "  color: var(--sklearn-color-text-muted);\n",
       "}\n",
       "\n",
       "#sk-container-id-1 label.sk-toggleable__label-arrow:before {\n",
       "  /* Arrow on the left of the label */\n",
       "  content: \"▸\";\n",
       "  float: left;\n",
       "  margin-right: 0.25em;\n",
       "  color: var(--sklearn-color-icon);\n",
       "}\n",
       "\n",
       "#sk-container-id-1 label.sk-toggleable__label-arrow:hover:before {\n",
       "  color: var(--sklearn-color-text);\n",
       "}\n",
       "\n",
       "/* Toggleable content - dropdown */\n",
       "\n",
       "#sk-container-id-1 div.sk-toggleable__content {\n",
       "  max-height: 0;\n",
       "  max-width: 0;\n",
       "  overflow: hidden;\n",
       "  text-align: left;\n",
       "  /* unfitted */\n",
       "  background-color: var(--sklearn-color-unfitted-level-0);\n",
       "}\n",
       "\n",
       "#sk-container-id-1 div.sk-toggleable__content.fitted {\n",
       "  /* fitted */\n",
       "  background-color: var(--sklearn-color-fitted-level-0);\n",
       "}\n",
       "\n",
       "#sk-container-id-1 div.sk-toggleable__content pre {\n",
       "  margin: 0.2em;\n",
       "  border-radius: 0.25em;\n",
       "  color: var(--sklearn-color-text);\n",
       "  /* unfitted */\n",
       "  background-color: var(--sklearn-color-unfitted-level-0);\n",
       "}\n",
       "\n",
       "#sk-container-id-1 div.sk-toggleable__content.fitted pre {\n",
       "  /* unfitted */\n",
       "  background-color: var(--sklearn-color-fitted-level-0);\n",
       "}\n",
       "\n",
       "#sk-container-id-1 input.sk-toggleable__control:checked~div.sk-toggleable__content {\n",
       "  /* Expand drop-down */\n",
       "  max-height: 200px;\n",
       "  max-width: 100%;\n",
       "  overflow: auto;\n",
       "}\n",
       "\n",
       "#sk-container-id-1 input.sk-toggleable__control:checked~label.sk-toggleable__label-arrow:before {\n",
       "  content: \"▾\";\n",
       "}\n",
       "\n",
       "/* Pipeline/ColumnTransformer-specific style */\n",
       "\n",
       "#sk-container-id-1 div.sk-label input.sk-toggleable__control:checked~label.sk-toggleable__label {\n",
       "  color: var(--sklearn-color-text);\n",
       "  background-color: var(--sklearn-color-unfitted-level-2);\n",
       "}\n",
       "\n",
       "#sk-container-id-1 div.sk-label.fitted input.sk-toggleable__control:checked~label.sk-toggleable__label {\n",
       "  background-color: var(--sklearn-color-fitted-level-2);\n",
       "}\n",
       "\n",
       "/* Estimator-specific style */\n",
       "\n",
       "/* Colorize estimator box */\n",
       "#sk-container-id-1 div.sk-estimator input.sk-toggleable__control:checked~label.sk-toggleable__label {\n",
       "  /* unfitted */\n",
       "  background-color: var(--sklearn-color-unfitted-level-2);\n",
       "}\n",
       "\n",
       "#sk-container-id-1 div.sk-estimator.fitted input.sk-toggleable__control:checked~label.sk-toggleable__label {\n",
       "  /* fitted */\n",
       "  background-color: var(--sklearn-color-fitted-level-2);\n",
       "}\n",
       "\n",
       "#sk-container-id-1 div.sk-label label.sk-toggleable__label,\n",
       "#sk-container-id-1 div.sk-label label {\n",
       "  /* The background is the default theme color */\n",
       "  color: var(--sklearn-color-text-on-default-background);\n",
       "}\n",
       "\n",
       "/* On hover, darken the color of the background */\n",
       "#sk-container-id-1 div.sk-label:hover label.sk-toggleable__label {\n",
       "  color: var(--sklearn-color-text);\n",
       "  background-color: var(--sklearn-color-unfitted-level-2);\n",
       "}\n",
       "\n",
       "/* Label box, darken color on hover, fitted */\n",
       "#sk-container-id-1 div.sk-label.fitted:hover label.sk-toggleable__label.fitted {\n",
       "  color: var(--sklearn-color-text);\n",
       "  background-color: var(--sklearn-color-fitted-level-2);\n",
       "}\n",
       "\n",
       "/* Estimator label */\n",
       "\n",
       "#sk-container-id-1 div.sk-label label {\n",
       "  font-family: monospace;\n",
       "  font-weight: bold;\n",
       "  display: inline-block;\n",
       "  line-height: 1.2em;\n",
       "}\n",
       "\n",
       "#sk-container-id-1 div.sk-label-container {\n",
       "  text-align: center;\n",
       "}\n",
       "\n",
       "/* Estimator-specific */\n",
       "#sk-container-id-1 div.sk-estimator {\n",
       "  font-family: monospace;\n",
       "  border: 1px dotted var(--sklearn-color-border-box);\n",
       "  border-radius: 0.25em;\n",
       "  box-sizing: border-box;\n",
       "  margin-bottom: 0.5em;\n",
       "  /* unfitted */\n",
       "  background-color: var(--sklearn-color-unfitted-level-0);\n",
       "}\n",
       "\n",
       "#sk-container-id-1 div.sk-estimator.fitted {\n",
       "  /* fitted */\n",
       "  background-color: var(--sklearn-color-fitted-level-0);\n",
       "}\n",
       "\n",
       "/* on hover */\n",
       "#sk-container-id-1 div.sk-estimator:hover {\n",
       "  /* unfitted */\n",
       "  background-color: var(--sklearn-color-unfitted-level-2);\n",
       "}\n",
       "\n",
       "#sk-container-id-1 div.sk-estimator.fitted:hover {\n",
       "  /* fitted */\n",
       "  background-color: var(--sklearn-color-fitted-level-2);\n",
       "}\n",
       "\n",
       "/* Specification for estimator info (e.g. \"i\" and \"?\") */\n",
       "\n",
       "/* Common style for \"i\" and \"?\" */\n",
       "\n",
       ".sk-estimator-doc-link,\n",
       "a:link.sk-estimator-doc-link,\n",
       "a:visited.sk-estimator-doc-link {\n",
       "  float: right;\n",
       "  font-size: smaller;\n",
       "  line-height: 1em;\n",
       "  font-family: monospace;\n",
       "  background-color: var(--sklearn-color-background);\n",
       "  border-radius: 1em;\n",
       "  height: 1em;\n",
       "  width: 1em;\n",
       "  text-decoration: none !important;\n",
       "  margin-left: 0.5em;\n",
       "  text-align: center;\n",
       "  /* unfitted */\n",
       "  border: var(--sklearn-color-unfitted-level-1) 1pt solid;\n",
       "  color: var(--sklearn-color-unfitted-level-1);\n",
       "}\n",
       "\n",
       ".sk-estimator-doc-link.fitted,\n",
       "a:link.sk-estimator-doc-link.fitted,\n",
       "a:visited.sk-estimator-doc-link.fitted {\n",
       "  /* fitted */\n",
       "  border: var(--sklearn-color-fitted-level-1) 1pt solid;\n",
       "  color: var(--sklearn-color-fitted-level-1);\n",
       "}\n",
       "\n",
       "/* On hover */\n",
       "div.sk-estimator:hover .sk-estimator-doc-link:hover,\n",
       ".sk-estimator-doc-link:hover,\n",
       "div.sk-label-container:hover .sk-estimator-doc-link:hover,\n",
       ".sk-estimator-doc-link:hover {\n",
       "  /* unfitted */\n",
       "  background-color: var(--sklearn-color-unfitted-level-3);\n",
       "  color: var(--sklearn-color-background);\n",
       "  text-decoration: none;\n",
       "}\n",
       "\n",
       "div.sk-estimator.fitted:hover .sk-estimator-doc-link.fitted:hover,\n",
       ".sk-estimator-doc-link.fitted:hover,\n",
       "div.sk-label-container:hover .sk-estimator-doc-link.fitted:hover,\n",
       ".sk-estimator-doc-link.fitted:hover {\n",
       "  /* fitted */\n",
       "  background-color: var(--sklearn-color-fitted-level-3);\n",
       "  color: var(--sklearn-color-background);\n",
       "  text-decoration: none;\n",
       "}\n",
       "\n",
       "/* Span, style for the box shown on hovering the info icon */\n",
       ".sk-estimator-doc-link span {\n",
       "  display: none;\n",
       "  z-index: 9999;\n",
       "  position: relative;\n",
       "  font-weight: normal;\n",
       "  right: .2ex;\n",
       "  padding: .5ex;\n",
       "  margin: .5ex;\n",
       "  width: min-content;\n",
       "  min-width: 20ex;\n",
       "  max-width: 50ex;\n",
       "  color: var(--sklearn-color-text);\n",
       "  box-shadow: 2pt 2pt 4pt #999;\n",
       "  /* unfitted */\n",
       "  background: var(--sklearn-color-unfitted-level-0);\n",
       "  border: .5pt solid var(--sklearn-color-unfitted-level-3);\n",
       "}\n",
       "\n",
       ".sk-estimator-doc-link.fitted span {\n",
       "  /* fitted */\n",
       "  background: var(--sklearn-color-fitted-level-0);\n",
       "  border: var(--sklearn-color-fitted-level-3);\n",
       "}\n",
       "\n",
       ".sk-estimator-doc-link:hover span {\n",
       "  display: block;\n",
       "}\n",
       "\n",
       "/* \"?\"-specific style due to the `<a>` HTML tag */\n",
       "\n",
       "#sk-container-id-1 a.estimator_doc_link {\n",
       "  float: right;\n",
       "  font-size: 1rem;\n",
       "  line-height: 1em;\n",
       "  font-family: monospace;\n",
       "  background-color: var(--sklearn-color-background);\n",
       "  border-radius: 1rem;\n",
       "  height: 1rem;\n",
       "  width: 1rem;\n",
       "  text-decoration: none;\n",
       "  /* unfitted */\n",
       "  color: var(--sklearn-color-unfitted-level-1);\n",
       "  border: var(--sklearn-color-unfitted-level-1) 1pt solid;\n",
       "}\n",
       "\n",
       "#sk-container-id-1 a.estimator_doc_link.fitted {\n",
       "  /* fitted */\n",
       "  border: var(--sklearn-color-fitted-level-1) 1pt solid;\n",
       "  color: var(--sklearn-color-fitted-level-1);\n",
       "}\n",
       "\n",
       "/* On hover */\n",
       "#sk-container-id-1 a.estimator_doc_link:hover {\n",
       "  /* unfitted */\n",
       "  background-color: var(--sklearn-color-unfitted-level-3);\n",
       "  color: var(--sklearn-color-background);\n",
       "  text-decoration: none;\n",
       "}\n",
       "\n",
       "#sk-container-id-1 a.estimator_doc_link.fitted:hover {\n",
       "  /* fitted */\n",
       "  background-color: var(--sklearn-color-fitted-level-3);\n",
       "}\n",
       "</style><div id=\"sk-container-id-1\" class=\"sk-top-container\"><div class=\"sk-text-repr-fallback\"><pre>LogisticRegression()</pre><b>In a Jupyter environment, please rerun this cell to show the HTML representation or trust the notebook. <br />On GitHub, the HTML representation is unable to render, please try loading this page with nbviewer.org.</b></div><div class=\"sk-container\" hidden><div class=\"sk-item\"><div class=\"sk-estimator fitted sk-toggleable\"><input class=\"sk-toggleable__control sk-hidden--visually\" id=\"sk-estimator-id-1\" type=\"checkbox\" checked><label for=\"sk-estimator-id-1\" class=\"sk-toggleable__label fitted sk-toggleable__label-arrow\"><div><div>LogisticRegression</div></div><div><a class=\"sk-estimator-doc-link fitted\" rel=\"noreferrer\" target=\"_blank\" href=\"https://scikit-learn.org/1.6/modules/generated/sklearn.linear_model.LogisticRegression.html\">?<span>Documentation for LogisticRegression</span></a><span class=\"sk-estimator-doc-link fitted\">i<span>Fitted</span></span></div></label><div class=\"sk-toggleable__content fitted\"><pre>LogisticRegression()</pre></div> </div></div></div></div>"
      ],
      "text/plain": [
       "LogisticRegression()"
      ]
     },
     "execution_count": 57,
     "metadata": {},
     "output_type": "execute_result"
    }
   ],
   "source": [
    "model = LogisticRegression()\n",
    "model.fit(X_train, y_train)"
   ]
  },
  {
   "cell_type": "code",
   "execution_count": 58,
   "metadata": {
    "execution": {
     "iopub.execute_input": "2025-01-17T03:42:28.358095Z",
     "iopub.status.busy": "2025-01-17T03:42:28.357775Z",
     "iopub.status.idle": "2025-01-17T03:42:28.364846Z",
     "shell.execute_reply": "2025-01-17T03:42:28.363868Z",
     "shell.execute_reply.started": "2025-01-17T03:42:28.358069Z"
    },
    "trusted": true
   },
   "outputs": [
    {
     "data": {
      "text/plain": [
       "array(['Positive', 'Negative', 'Positive', 'Positive', 'Positive',\n",
       "       'Neutral', 'Negative', 'Neutral', 'Positive', 'Positive',\n",
       "       'Positive', 'Positive', 'Neutral', 'Neutral', 'Negative',\n",
       "       'Positive', 'Negative', 'Neutral', 'Negative', 'Neutral',\n",
       "       'Negative', 'Neutral', 'Neutral', 'Positive'], dtype=object)"
      ]
     },
     "execution_count": 58,
     "metadata": {},
     "output_type": "execute_result"
    }
   ],
   "source": [
    "y_pred = model.predict(X_test)\n",
    "y_pred"
   ]
  },
  {
   "cell_type": "code",
   "execution_count": 59,
   "metadata": {
    "execution": {
     "iopub.execute_input": "2025-01-17T03:42:28.366356Z",
     "iopub.status.busy": "2025-01-17T03:42:28.366008Z",
     "iopub.status.idle": "2025-01-17T03:42:28.392099Z",
     "shell.execute_reply": "2025-01-17T03:42:28.390928Z",
     "shell.execute_reply.started": "2025-01-17T03:42:28.366320Z"
    },
    "trusted": true
   },
   "outputs": [
    {
     "name": "stdout",
     "output_type": "stream",
     "text": [
      "              precision    recall  f1-score   support\n",
      "\n",
      "    Negative       1.00      0.75      0.86         8\n",
      "     Neutral       1.00      1.00      1.00         8\n",
      "    Positive       0.80      1.00      0.89         8\n",
      "\n",
      "    accuracy                           0.92        24\n",
      "   macro avg       0.93      0.92      0.92        24\n",
      "weighted avg       0.93      0.92      0.92        24\n",
      "\n",
      "Accuracy: 0.9166666666666666\n"
     ]
    }
   ],
   "source": [
    "\n",
    "print(classification_report(y_test, y_pred))\n",
    "print('Accuracy:', accuracy_score(y_test, y_pred))"
   ]
  },
  {
   "cell_type": "code",
   "execution_count": 60,
   "metadata": {
    "execution": {
     "iopub.execute_input": "2025-01-17T03:42:28.393641Z",
     "iopub.status.busy": "2025-01-17T03:42:28.393245Z",
     "iopub.status.idle": "2025-01-17T03:42:28.420739Z",
     "shell.execute_reply": "2025-01-17T03:42:28.419541Z",
     "shell.execute_reply.started": "2025-01-17T03:42:28.393603Z"
    },
    "trusted": true
   },
   "outputs": [
    {
     "data": {
      "text/plain": [
       "['model.pkl']"
      ]
     },
     "execution_count": 60,
     "metadata": {},
     "output_type": "execute_result"
    }
   ],
   "source": [
    "import joblib\n",
    "\n",
    "# Save vectorizer and model\n",
    "joblib.dump(vectorizer, 'vectorizer.pkl')\n",
    "joblib.dump(model, 'model.pkl')"
   ]
  },
  {
   "cell_type": "code",
   "execution_count": 61,
   "metadata": {
    "execution": {
     "iopub.execute_input": "2025-01-17T03:42:28.422146Z",
     "iopub.status.busy": "2025-01-17T03:42:28.421790Z",
     "iopub.status.idle": "2025-01-17T03:42:28.443488Z",
     "shell.execute_reply": "2025-01-17T03:42:28.441818Z",
     "shell.execute_reply.started": "2025-01-17T03:42:28.422118Z"
    },
    "trusted": true
   },
   "outputs": [],
   "source": [
    "# Load the saved vectorizer and model\n",
    "vectorizer = joblib.load('vectorizer.pkl')\n",
    "model = joblib.load('model.pkl')"
   ]
  },
  {
   "cell_type": "code",
   "execution_count": 62,
   "metadata": {
    "execution": {
     "iopub.execute_input": "2025-01-17T03:42:28.445143Z",
     "iopub.status.busy": "2025-01-17T03:42:28.444799Z",
     "iopub.status.idle": "2025-01-17T03:42:28.457158Z",
     "shell.execute_reply": "2025-01-17T03:42:28.456182Z",
     "shell.execute_reply.started": "2025-01-17T03:42:28.445116Z"
    },
    "trusted": true
   },
   "outputs": [
    {
     "data": {
      "text/html": [
       "<div>\n",
       "<style scoped>\n",
       "    .dataframe tbody tr th:only-of-type {\n",
       "        vertical-align: middle;\n",
       "    }\n",
       "\n",
       "    .dataframe tbody tr th {\n",
       "        vertical-align: top;\n",
       "    }\n",
       "\n",
       "    .dataframe thead th {\n",
       "        text-align: right;\n",
       "    }\n",
       "</style>\n",
       "<table border=\"1\" class=\"dataframe\">\n",
       "  <thead>\n",
       "    <tr style=\"text-align: right;\">\n",
       "      <th></th>\n",
       "      <th>Review Content</th>\n",
       "      <th>Review Rating</th>\n",
       "      <th>Sentiment</th>\n",
       "    </tr>\n",
       "  </thead>\n",
       "  <tbody>\n",
       "    <tr>\n",
       "      <th>1</th>\n",
       "      <td>I am staying away from the conventional deodor...</td>\n",
       "      <td>5.0</td>\n",
       "      <td>Positive</td>\n",
       "    </tr>\n",
       "    <tr>\n",
       "      <th>2</th>\n",
       "      <td>Do not buy this from Amazon it's either defect...</td>\n",
       "      <td>1.0</td>\n",
       "      <td>Negative</td>\n",
       "    </tr>\n",
       "    <tr>\n",
       "      <th>3</th>\n",
       "      <td>I started using this because I was getting cys...</td>\n",
       "      <td>3.0</td>\n",
       "      <td>Neutral</td>\n",
       "    </tr>\n",
       "    <tr>\n",
       "      <th>4</th>\n",
       "      <td>Dont buy this from amazon!!!! I never write re...</td>\n",
       "      <td>1.0</td>\n",
       "      <td>Negative</td>\n",
       "    </tr>\n",
       "  </tbody>\n",
       "</table>\n",
       "</div>"
      ],
      "text/plain": [
       "                                      Review Content  Review Rating Sentiment\n",
       "1  I am staying away from the conventional deodor...            5.0  Positive\n",
       "2  Do not buy this from Amazon it's either defect...            1.0  Negative\n",
       "3  I started using this because I was getting cys...            3.0   Neutral\n",
       "4  Dont buy this from amazon!!!! I never write re...            1.0  Negative"
      ]
     },
     "execution_count": 62,
     "metadata": {},
     "output_type": "execute_result"
    }
   ],
   "source": [
    "d=df.iloc[1:5,:]\n",
    "d"
   ]
  },
  {
   "cell_type": "code",
   "execution_count": 63,
   "metadata": {
    "execution": {
     "iopub.execute_input": "2025-01-17T03:42:28.458371Z",
     "iopub.status.busy": "2025-01-17T03:42:28.458038Z",
     "iopub.status.idle": "2025-01-17T03:42:28.476353Z",
     "shell.execute_reply": "2025-01-17T03:42:28.475464Z",
     "shell.execute_reply.started": "2025-01-17T03:42:28.458345Z"
    },
    "trusted": true
   },
   "outputs": [
    {
     "data": {
      "text/plain": [
       "[\"I am staying away from the conventional deodorants that have lots of fragrance combined with aluminum which is an irritant to my skin and bad for the body anyway. In my search for a product that smelled fresh enough for a woman to use and one that worked, I came upon Schmidt's charcoal. I was pleasantly surprised! It is smooth and easy to put on, it doesn't get gloppy like some, it keeps me feeling fresh all day long and it works! The price is so worth it because it lasts A LONG TIME. Try it! You'll be happy you did.\",\n",
       " \"Do not buy this from Amazon it's either defective or counterfeit. I used to buy the same product at Costco, it works great. As the picture shows there are clumps throughout the stick and it causes the product to overapply and get messy. The sticks from Costco were smooth and worked great.\",\n",
       " 'I started using this because I was getting cysts from aluminum antiperspirants. After studying the properties of charcoal in an academic setting regarding absorption of toxins in water filtration, I decided to pick this aluminum free deodorant. A few years earlier, I tried other aluminum free deodorants and they failed miserably. It smells good, with a mineraly fresh scent. I have sensitive skin, especially after shaving. After going to the dermatologist because I thought I had a serious rash with a burning sensation, we figured it was this deodorant. Now I know not to apply this deodorant the day or two after shaving. I reccomend this if you do not shave often. Also, it does stain gray and oily. Do not wear this on thin, light, or nice clothes. Good for wearing with neutral colored sweaters, for example. As for sweat prevention and odor reduction, it was satisfactory. I live in the northeast US, where we have cold winters and humid hot summers, so it was good for fall, winter and spring. Definitely did not do the job in summer. Also not as effective during exercise. Overall, this was a good alternative to aluminum antiperspirant when I am wearing thicker clothes I do not care about too much, in the colder months, when I am not exercising, and when I have not shaved for a day or two. To me, its better than constantly using aluminum antiperspirant.',\n",
       " 'Dont buy this from amazon!!!! I never write reviews but felt others should know this. I’ve been using this deodorant for a while and purchased it this time from amazon. It isn’t the real product and the charcoal chunks will tear your armpits up.']"
      ]
     },
     "execution_count": 63,
     "metadata": {},
     "output_type": "execute_result"
    }
   ],
   "source": [
    "list(d['Review Content'])"
   ]
  },
  {
   "cell_type": "code",
   "execution_count": 64,
   "metadata": {
    "execution": {
     "iopub.execute_input": "2025-01-17T03:43:47.776090Z",
     "iopub.status.busy": "2025-01-17T03:43:47.775684Z",
     "iopub.status.idle": "2025-01-17T03:43:47.780252Z",
     "shell.execute_reply": "2025-01-17T03:43:47.779212Z",
     "shell.execute_reply.started": "2025-01-17T03:43:47.776063Z"
    },
    "trusted": true
   },
   "outputs": [],
   "source": [
    "new_data1=[\"Do not buy this from Amazon it's either defective or counterfeit. I used to buy the same product at Costco, it works great. As the picture shows there are clumps throughout the stick and it causes the product to overapply and get messy. The sticks from Costco were smooth and worked great.\"]\n"
   ]
  },
  {
   "cell_type": "code",
   "execution_count": null,
   "metadata": {},
   "outputs": [],
   "source": []
  },
  {
   "cell_type": "code",
   "execution_count": 88,
   "metadata": {},
   "outputs": [],
   "source": [
    "new_data1=[\"This product is amazing!\"]"
   ]
  },
  {
   "cell_type": "code",
   "execution_count": 89,
   "metadata": {
    "execution": {
     "iopub.execute_input": "2025-01-17T03:43:48.615328Z",
     "iopub.status.busy": "2025-01-17T03:43:48.614904Z",
     "iopub.status.idle": "2025-01-17T03:43:48.620667Z",
     "shell.execute_reply": "2025-01-17T03:43:48.619808Z",
     "shell.execute_reply.started": "2025-01-17T03:43:48.615264Z"
    },
    "trusted": true
   },
   "outputs": [
    {
     "data": {
      "text/plain": [
       "['This product is amazing!']"
      ]
     },
     "execution_count": 89,
     "metadata": {},
     "output_type": "execute_result"
    }
   ],
   "source": [
    "new_data1"
   ]
  },
  {
   "cell_type": "code",
   "execution_count": 90,
   "metadata": {
    "execution": {
     "iopub.execute_input": "2025-01-17T03:43:49.221976Z",
     "iopub.status.busy": "2025-01-17T03:43:49.221645Z",
     "iopub.status.idle": "2025-01-17T03:43:49.226731Z",
     "shell.execute_reply": "2025-01-17T03:43:49.225561Z",
     "shell.execute_reply.started": "2025-01-17T03:43:49.221951Z"
    },
    "trusted": true
   },
   "outputs": [],
   "source": [
    "new_data=pd.DataFrame(new_data1,columns=['Review'])"
   ]
  },
  {
   "cell_type": "code",
   "execution_count": 91,
   "metadata": {
    "execution": {
     "iopub.execute_input": "2025-01-17T03:43:49.780437Z",
     "iopub.status.busy": "2025-01-17T03:43:49.779931Z",
     "iopub.status.idle": "2025-01-17T03:43:49.791250Z",
     "shell.execute_reply": "2025-01-17T03:43:49.789927Z",
     "shell.execute_reply.started": "2025-01-17T03:43:49.780409Z"
    },
    "trusted": true
   },
   "outputs": [
    {
     "data": {
      "text/html": [
       "<div>\n",
       "<style scoped>\n",
       "    .dataframe tbody tr th:only-of-type {\n",
       "        vertical-align: middle;\n",
       "    }\n",
       "\n",
       "    .dataframe tbody tr th {\n",
       "        vertical-align: top;\n",
       "    }\n",
       "\n",
       "    .dataframe thead th {\n",
       "        text-align: right;\n",
       "    }\n",
       "</style>\n",
       "<table border=\"1\" class=\"dataframe\">\n",
       "  <thead>\n",
       "    <tr style=\"text-align: right;\">\n",
       "      <th></th>\n",
       "      <th>Review</th>\n",
       "    </tr>\n",
       "  </thead>\n",
       "  <tbody>\n",
       "    <tr>\n",
       "      <th>0</th>\n",
       "      <td>This product is amazing!</td>\n",
       "    </tr>\n",
       "  </tbody>\n",
       "</table>\n",
       "</div>"
      ],
      "text/plain": [
       "                     Review\n",
       "0  This product is amazing!"
      ]
     },
     "execution_count": 91,
     "metadata": {},
     "output_type": "execute_result"
    }
   ],
   "source": [
    "new_data"
   ]
  },
  {
   "cell_type": "code",
   "execution_count": 92,
   "metadata": {
    "execution": {
     "iopub.execute_input": "2025-01-17T03:43:52.899255Z",
     "iopub.status.busy": "2025-01-17T03:43:52.898859Z",
     "iopub.status.idle": "2025-01-17T03:43:52.908871Z",
     "shell.execute_reply": "2025-01-17T03:43:52.907510Z",
     "shell.execute_reply.started": "2025-01-17T03:43:52.899225Z"
    },
    "trusted": true
   },
   "outputs": [
    {
     "data": {
      "text/html": [
       "<div>\n",
       "<style scoped>\n",
       "    .dataframe tbody tr th:only-of-type {\n",
       "        vertical-align: middle;\n",
       "    }\n",
       "\n",
       "    .dataframe tbody tr th {\n",
       "        vertical-align: top;\n",
       "    }\n",
       "\n",
       "    .dataframe thead th {\n",
       "        text-align: right;\n",
       "    }\n",
       "</style>\n",
       "<table border=\"1\" class=\"dataframe\">\n",
       "  <thead>\n",
       "    <tr style=\"text-align: right;\">\n",
       "      <th></th>\n",
       "      <th>Review</th>\n",
       "    </tr>\n",
       "  </thead>\n",
       "  <tbody>\n",
       "    <tr>\n",
       "      <th>0</th>\n",
       "      <td>product amaz</td>\n",
       "    </tr>\n",
       "  </tbody>\n",
       "</table>\n",
       "</div>"
      ],
      "text/plain": [
       "         Review\n",
       "0  product amaz"
      ]
     },
     "execution_count": 92,
     "metadata": {},
     "output_type": "execute_result"
    }
   ],
   "source": [
    "new_data['Review']=new_data[\"Review\"].apply(clean)\n",
    "new_data"
   ]
  },
  {
   "cell_type": "code",
   "execution_count": 93,
   "metadata": {
    "execution": {
     "iopub.execute_input": "2025-01-17T03:43:55.503590Z",
     "iopub.status.busy": "2025-01-17T03:43:55.503203Z",
     "iopub.status.idle": "2025-01-17T03:43:55.511243Z",
     "shell.execute_reply": "2025-01-17T03:43:55.510275Z",
     "shell.execute_reply.started": "2025-01-17T03:43:55.503560Z"
    },
    "trusted": true
   },
   "outputs": [
    {
     "data": {
      "text/plain": [
       "<Compressed Sparse Row sparse matrix of dtype 'float64'\n",
       "\twith 2 stored elements and shape (1, 430)>"
      ]
     },
     "execution_count": 93,
     "metadata": {},
     "output_type": "execute_result"
    }
   ],
   "source": [
    "X_new =vectorizer.transform(new_data['Review'])\n",
    "X_new"
   ]
  },
  {
   "cell_type": "code",
   "execution_count": 94,
   "metadata": {
    "execution": {
     "iopub.execute_input": "2025-01-17T03:43:57.606603Z",
     "iopub.status.busy": "2025-01-17T03:43:57.606232Z",
     "iopub.status.idle": "2025-01-17T03:43:57.613466Z",
     "shell.execute_reply": "2025-01-17T03:43:57.612305Z",
     "shell.execute_reply.started": "2025-01-17T03:43:57.606576Z"
    },
    "trusted": true
   },
   "outputs": [
    {
     "data": {
      "text/plain": [
       "array(['Positive'], dtype=object)"
      ]
     },
     "execution_count": 94,
     "metadata": {},
     "output_type": "execute_result"
    }
   ],
   "source": [
    "prediction = model.predict(X_new)\n",
    "prediction"
   ]
  },
  {
   "cell_type": "code",
   "execution_count": null,
   "metadata": {
    "execution": {
     "iopub.execute_input": "2025-01-17T03:44:13.151665Z",
     "iopub.status.busy": "2025-01-17T03:44:13.151321Z",
     "iopub.status.idle": "2025-01-17T03:44:13.158203Z",
     "shell.execute_reply": "2025-01-17T03:44:13.157299Z",
     "shell.execute_reply.started": "2025-01-17T03:44:13.151637Z"
    },
    "trusted": true
   },
   "outputs": [],
   "source": [
    "new_data = [\"I love this product!\", \"The quality is bad.\", \"It's okay but not great.\"]\n",
    "new_data_df = pd.DataFrame(new_data, columns=['Review'])\n",
    "new_data_df['Review']=new_data_df[\"Review\"].apply(clean)\n",
    "\n",
    "# Step 3: Preprocess and transform the new data\n",
    "X_new = vectorizer.transform(new_data_df['Review'])  # Use the saved vectorizer to transform new data"
   ]
  },
  {
   "cell_type": "code",
   "execution_count": 76,
   "metadata": {
    "execution": {
     "iopub.execute_input": "2025-01-17T03:44:20.263089Z",
     "iopub.status.busy": "2025-01-17T03:44:20.262765Z",
     "iopub.status.idle": "2025-01-17T03:44:20.267894Z",
     "shell.execute_reply": "2025-01-17T03:44:20.266686Z",
     "shell.execute_reply.started": "2025-01-17T03:44:20.263066Z"
    },
    "trusted": true
   },
   "outputs": [],
   "source": [
    "# Step 4: Predict sentiment for the new data\n",
    "predictions = model.predict(X_new)\n"
   ]
  },
  {
   "cell_type": "code",
   "execution_count": 77,
   "metadata": {
    "execution": {
     "iopub.execute_input": "2025-01-17T03:42:28.661712Z",
     "iopub.status.busy": "2025-01-17T03:42:28.661360Z",
     "iopub.status.idle": "2025-01-17T03:42:28.682125Z",
     "shell.execute_reply": "2025-01-17T03:42:28.681106Z",
     "shell.execute_reply.started": "2025-01-17T03:42:28.661677Z"
    },
    "trusted": true
   },
   "outputs": [
    {
     "name": "stdout",
     "output_type": "stream",
     "text": [
      "         Review Predicted_Sentiment\n",
      "0  love product            Positive\n",
      "1   qualiti bad            Negative\n",
      "2    okay great            Positive\n"
     ]
    }
   ],
   "source": [
    "new_data_df['Predicted_Sentiment'] = predictions\n",
    "\n",
    "# Step 5: Display predictions\n",
    "print(new_data_df)"
   ]
  },
  {
   "cell_type": "code",
   "execution_count": 79,
   "metadata": {
    "trusted": true
   },
   "outputs": [
    {
     "data": {
      "text/plain": [
       "['vectorizer.pkl']"
      ]
     },
     "execution_count": 79,
     "metadata": {},
     "output_type": "execute_result"
    }
   ],
   "source": [
    "import joblib\n",
    "\n",
    "# Save vectorizer and model\n",
    "joblib.dump(vectorizer, 'vectorizer.pkl')\n"
   ]
  },
  {
   "cell_type": "code",
   "execution_count": 80,
   "metadata": {
    "trusted": true
   },
   "outputs": [
    {
     "data": {
      "text/plain": [
       "['model.pkl']"
      ]
     },
     "execution_count": 80,
     "metadata": {},
     "output_type": "execute_result"
    }
   ],
   "source": [
    "joblib.dump(model, 'model.pkl')"
   ]
  },
  {
   "cell_type": "code",
   "execution_count": null,
   "metadata": {},
   "outputs": [],
   "source": []
  }
 ],
 "metadata": {
  "kaggle": {
   "accelerator": "none",
   "dataSources": [
    {
     "datasetId": 876479,
     "sourceId": 1492789,
     "sourceType": "datasetVersion"
    }
   ],
   "dockerImageVersionId": 30839,
   "isGpuEnabled": false,
   "isInternetEnabled": false,
   "language": "python",
   "sourceType": "notebook"
  },
  "kernelspec": {
   "display_name": "Python 3",
   "language": "python",
   "name": "python3"
  },
  "language_info": {
   "codemirror_mode": {
    "name": "ipython",
    "version": 3
   },
   "file_extension": ".py",
   "mimetype": "text/x-python",
   "name": "python",
   "nbconvert_exporter": "python",
   "pygments_lexer": "ipython3",
   "version": "3.13.1"
  }
 },
 "nbformat": 4,
 "nbformat_minor": 4
}
